{
  "cells": [
    {
      "cell_type": "markdown",
      "id": "ec202ada",
      "metadata": {
        "id": "ec202ada"
      },
      "source": [
        "# Assignment - Supervised Learning flow"
      ]
    },
    {
      "cell_type": "markdown",
      "id": "b06a2810",
      "metadata": {
        "id": "b06a2810"
      },
      "source": [
        "# Part 1(a) Student details:\n",
        "* Please write the First-Name, First letter of Last-Name and last 4 digits of the i.d. for each student."
      ]
    },
    {
      "cell_type": "code",
      "execution_count": 1,
      "id": "ca16486b",
      "metadata": {
        "id": "ca16486b"
      },
      "outputs": [],
      "source": [
        "# stundent details example: John S. 9812\n",
        "#                       student details 1: Omri A. 6398"
      ]
    },
    {
      "cell_type": "markdown",
      "id": "abb64166-b32e-4b86-a7ee-84106c8b3a92",
      "metadata": {
        "id": "abb64166-b32e-4b86-a7ee-84106c8b3a92"
      },
      "source": [
        "## Part 1(b) - Chat-GPT/other AI-agent/other assistance used:\n",
        "* If you changed the prompt until you got a satisfying answer, please add all versions\n",
        "* don't delete \"pre\" tags, so new-line is supported\n",
        "* double click the following markdown cell to change\n",
        "* press shift+enter to view\n",
        "* Add information:"
      ]
    },
    {
      "cell_type": "markdown",
      "id": "ea93f0d3-7aa1-4a95-b084-395f5f7c6c0c",
      "metadata": {
        "id": "ea93f0d3-7aa1-4a95-b084-395f5f7c6c0c"
      },
      "source": [
        "#### Add information in this Markdown cell (double click to change, shift-enter to view)\n",
        "<pre>   \n",
        "AI agent name: ChatGPT-5\n",
        "Goal: Syntax help and generate graph help\n",
        "Propmpt1: how to connect collab to drive?\n",
        "    \n",
        "Propmpt2: give me the most simple example of random forest with gridsearch\n",
        "    \n",
        "Propmpt3: I want to show y_pred and y_test results in confusion matrix plot\n",
        "\n",
        "Prompt4: fix this:\n",
        "  plt.hist(train_set['Embarked'], bins=4, edgecolor='black')\n",
        "  plt.xlabel('Embarktion Point')\n",
        "  plt.ylabel('Number of Passengers')\n",
        "  plt.title('Histogram of number of passengers per embarktion point')\n",
        "  plt.show()\n",
        "  to have only integers in the x axis and have the number above each histogram    \n",
        "</pre>"
      ]
    },
    {
      "cell_type": "markdown",
      "id": "0e4fbaab-e5a5-40ed-be0f-9a2cb7931a4b",
      "metadata": {
        "id": "0e4fbaab-e5a5-40ed-be0f-9a2cb7931a4b"
      },
      "source": [
        "## Part 1(c) - Learning Problem and dataset explaination.\n",
        "* Please explain in one paragraph\n",
        "* don't delete \"pre\" tags, so new-line is supported\n",
        "* double click the following markdown cell to change\n",
        "* press shift+enter to view\n",
        "* Add explaining text:"
      ]
    },
    {
      "cell_type": "markdown",
      "id": "dd8565df-2778-4b89-83bd-6b227063789f",
      "metadata": {
        "id": "dd8565df-2778-4b89-83bd-6b227063789f"
      },
      "source": [
        "#### Add information in this Markdown cell (double click to change, shift-enter to view)\n",
        "<pre>\n",
        "The Titanic Dataset has a list of passengers and their survival status '1' survived and '0' died.\n",
        "My task is to predict in the test set, if a passenger managed to survive or not.\n",
        "The dataset contains the following features:\n",
        "* PClass - The class passengers travelled in\n",
        "* Sex - Gender of Passenger\n",
        "* Age - Age of passenger\n",
        "* SibSp - Number of siblings or spouse\n",
        "* Parch - Parent or child\n",
        "* Fare - Amount paid for the ticket\n",
        "* Embarked - Point of embarkment\n",
        "</pre>"
      ]
    },
    {
      "cell_type": "markdown",
      "id": "df67c2ee-87c8-499c-a04f-1853c332f51d",
      "metadata": {
        "id": "df67c2ee-87c8-499c-a04f-1853c332f51d"
      },
      "source": [
        "## Part 2 - Initial Preparations\n",
        "You could add as many code cells as needed"
      ]
    },
    {
      "cell_type": "markdown",
      "source": [
        "Imports"
      ],
      "metadata": {
        "id": "_9_JEJUMiOfe"
      },
      "id": "_9_JEJUMiOfe"
    },
    {
      "cell_type": "code",
      "execution_count": 2,
      "id": "b29b3454-b568-4614-8017-f15b3c59fc55",
      "metadata": {
        "id": "b29b3454-b568-4614-8017-f15b3c59fc55"
      },
      "outputs": [],
      "source": [
        "from google.colab import drive\n",
        "import numpy as np\n",
        "import pandas as pd\n",
        "import matplotlib.pyplot as plt\n",
        "import seaborn as sns\n",
        "import math\n",
        "\n",
        "from sklearn.decomposition import PCA\n",
        "from sklearn.ensemble import RandomForestClassifier\n",
        "from sklearn.neighbors import KNeighborsClassifier\n",
        "from sklearn.preprocessing import StandardScaler\n",
        "from sklearn.model_selection import GridSearchCV\n",
        "from sklearn.metrics import make_scorer, f1_score\n",
        "from sklearn.metrics import confusion_matrix, ConfusionMatrixDisplay"
      ]
    },
    {
      "cell_type": "markdown",
      "source": [
        "Collab connection and loading datasets"
      ],
      "metadata": {
        "id": "2rPVy_jWiRSH"
      },
      "id": "2rPVy_jWiRSH"
    },
    {
      "cell_type": "code",
      "execution_count": 3,
      "id": "4b47fe56-d611-4b28-be92-673db4d56400",
      "metadata": {
        "colab": {
          "base_uri": "https://localhost:8080/"
        },
        "id": "4b47fe56-d611-4b28-be92-673db4d56400",
        "outputId": "331bd446-de49-4e03-84d3-cfa555516dd7"
      },
      "outputs": [
        {
          "output_type": "stream",
          "name": "stdout",
          "text": [
            "Mounted at /content/drive\n"
          ]
        }
      ],
      "source": [
        "# connect to google drive\n",
        "data_path = \"/content/drive\"\n",
        "drive.mount(data_path)\n",
        "train_set = pd.read_csv(f\"{data_path}/MyDrive/titanic/titanic_train.csv\")\n",
        "test_set = pd.read_csv(f\"{data_path}/MyDrive/titanic/titanic_test.csv\")"
      ]
    },
    {
      "cell_type": "markdown",
      "source": [
        "Print Datasets"
      ],
      "metadata": {
        "id": "plEPw5S7iLM8"
      },
      "id": "plEPw5S7iLM8"
    },
    {
      "cell_type": "code",
      "execution_count": 4,
      "id": "53e27610-b640-4db0-80c9-789b5f5fae58",
      "metadata": {
        "colab": {
          "base_uri": "https://localhost:8080/",
          "height": 206
        },
        "id": "53e27610-b640-4db0-80c9-789b5f5fae58",
        "outputId": "b533a658-446b-4486-c411-140ffb1b338c"
      },
      "outputs": [
        {
          "output_type": "execute_result",
          "data": {
            "text/plain": [
              "   Pclass  Sex   Age  SibSp  Parch     Fare  Embarked  Survived\n",
              "0       1    0  54.0      1      0  78.2667         1         1\n",
              "1       2    0  45.0      0      0  13.5000         0         1\n",
              "2       3    1  20.0      0      0   9.5000         0         0\n",
              "3       3    1  36.0      0      0   7.8958         0         0\n",
              "4       3    1  22.0      0      0   8.0500         0         0"
            ],
            "text/html": [
              "\n",
              "  <div id=\"df-e053ea26-1586-44da-ac72-0a12a8e93260\" class=\"colab-df-container\">\n",
              "    <div>\n",
              "<style scoped>\n",
              "    .dataframe tbody tr th:only-of-type {\n",
              "        vertical-align: middle;\n",
              "    }\n",
              "\n",
              "    .dataframe tbody tr th {\n",
              "        vertical-align: top;\n",
              "    }\n",
              "\n",
              "    .dataframe thead th {\n",
              "        text-align: right;\n",
              "    }\n",
              "</style>\n",
              "<table border=\"1\" class=\"dataframe\">\n",
              "  <thead>\n",
              "    <tr style=\"text-align: right;\">\n",
              "      <th></th>\n",
              "      <th>Pclass</th>\n",
              "      <th>Sex</th>\n",
              "      <th>Age</th>\n",
              "      <th>SibSp</th>\n",
              "      <th>Parch</th>\n",
              "      <th>Fare</th>\n",
              "      <th>Embarked</th>\n",
              "      <th>Survived</th>\n",
              "    </tr>\n",
              "  </thead>\n",
              "  <tbody>\n",
              "    <tr>\n",
              "      <th>0</th>\n",
              "      <td>1</td>\n",
              "      <td>0</td>\n",
              "      <td>54.0</td>\n",
              "      <td>1</td>\n",
              "      <td>0</td>\n",
              "      <td>78.2667</td>\n",
              "      <td>1</td>\n",
              "      <td>1</td>\n",
              "    </tr>\n",
              "    <tr>\n",
              "      <th>1</th>\n",
              "      <td>2</td>\n",
              "      <td>0</td>\n",
              "      <td>45.0</td>\n",
              "      <td>0</td>\n",
              "      <td>0</td>\n",
              "      <td>13.5000</td>\n",
              "      <td>0</td>\n",
              "      <td>1</td>\n",
              "    </tr>\n",
              "    <tr>\n",
              "      <th>2</th>\n",
              "      <td>3</td>\n",
              "      <td>1</td>\n",
              "      <td>20.0</td>\n",
              "      <td>0</td>\n",
              "      <td>0</td>\n",
              "      <td>9.5000</td>\n",
              "      <td>0</td>\n",
              "      <td>0</td>\n",
              "    </tr>\n",
              "    <tr>\n",
              "      <th>3</th>\n",
              "      <td>3</td>\n",
              "      <td>1</td>\n",
              "      <td>36.0</td>\n",
              "      <td>0</td>\n",
              "      <td>0</td>\n",
              "      <td>7.8958</td>\n",
              "      <td>0</td>\n",
              "      <td>0</td>\n",
              "    </tr>\n",
              "    <tr>\n",
              "      <th>4</th>\n",
              "      <td>3</td>\n",
              "      <td>1</td>\n",
              "      <td>22.0</td>\n",
              "      <td>0</td>\n",
              "      <td>0</td>\n",
              "      <td>8.0500</td>\n",
              "      <td>0</td>\n",
              "      <td>0</td>\n",
              "    </tr>\n",
              "  </tbody>\n",
              "</table>\n",
              "</div>\n",
              "    <div class=\"colab-df-buttons\">\n",
              "\n",
              "  <div class=\"colab-df-container\">\n",
              "    <button class=\"colab-df-convert\" onclick=\"convertToInteractive('df-e053ea26-1586-44da-ac72-0a12a8e93260')\"\n",
              "            title=\"Convert this dataframe to an interactive table.\"\n",
              "            style=\"display:none;\">\n",
              "\n",
              "  <svg xmlns=\"http://www.w3.org/2000/svg\" height=\"24px\" viewBox=\"0 -960 960 960\">\n",
              "    <path d=\"M120-120v-720h720v720H120Zm60-500h600v-160H180v160Zm220 220h160v-160H400v160Zm0 220h160v-160H400v160ZM180-400h160v-160H180v160Zm440 0h160v-160H620v160ZM180-180h160v-160H180v160Zm440 0h160v-160H620v160Z\"/>\n",
              "  </svg>\n",
              "    </button>\n",
              "\n",
              "  <style>\n",
              "    .colab-df-container {\n",
              "      display:flex;\n",
              "      gap: 12px;\n",
              "    }\n",
              "\n",
              "    .colab-df-convert {\n",
              "      background-color: #E8F0FE;\n",
              "      border: none;\n",
              "      border-radius: 50%;\n",
              "      cursor: pointer;\n",
              "      display: none;\n",
              "      fill: #1967D2;\n",
              "      height: 32px;\n",
              "      padding: 0 0 0 0;\n",
              "      width: 32px;\n",
              "    }\n",
              "\n",
              "    .colab-df-convert:hover {\n",
              "      background-color: #E2EBFA;\n",
              "      box-shadow: 0px 1px 2px rgba(60, 64, 67, 0.3), 0px 1px 3px 1px rgba(60, 64, 67, 0.15);\n",
              "      fill: #174EA6;\n",
              "    }\n",
              "\n",
              "    .colab-df-buttons div {\n",
              "      margin-bottom: 4px;\n",
              "    }\n",
              "\n",
              "    [theme=dark] .colab-df-convert {\n",
              "      background-color: #3B4455;\n",
              "      fill: #D2E3FC;\n",
              "    }\n",
              "\n",
              "    [theme=dark] .colab-df-convert:hover {\n",
              "      background-color: #434B5C;\n",
              "      box-shadow: 0px 1px 3px 1px rgba(0, 0, 0, 0.15);\n",
              "      filter: drop-shadow(0px 1px 2px rgba(0, 0, 0, 0.3));\n",
              "      fill: #FFFFFF;\n",
              "    }\n",
              "  </style>\n",
              "\n",
              "    <script>\n",
              "      const buttonEl =\n",
              "        document.querySelector('#df-e053ea26-1586-44da-ac72-0a12a8e93260 button.colab-df-convert');\n",
              "      buttonEl.style.display =\n",
              "        google.colab.kernel.accessAllowed ? 'block' : 'none';\n",
              "\n",
              "      async function convertToInteractive(key) {\n",
              "        const element = document.querySelector('#df-e053ea26-1586-44da-ac72-0a12a8e93260');\n",
              "        const dataTable =\n",
              "          await google.colab.kernel.invokeFunction('convertToInteractive',\n",
              "                                                    [key], {});\n",
              "        if (!dataTable) return;\n",
              "\n",
              "        const docLinkHtml = 'Like what you see? Visit the ' +\n",
              "          '<a target=\"_blank\" href=https://colab.research.google.com/notebooks/data_table.ipynb>data table notebook</a>'\n",
              "          + ' to learn more about interactive tables.';\n",
              "        element.innerHTML = '';\n",
              "        dataTable['output_type'] = 'display_data';\n",
              "        await google.colab.output.renderOutput(dataTable, element);\n",
              "        const docLink = document.createElement('div');\n",
              "        docLink.innerHTML = docLinkHtml;\n",
              "        element.appendChild(docLink);\n",
              "      }\n",
              "    </script>\n",
              "  </div>\n",
              "\n",
              "\n",
              "    <div id=\"df-8a2a4260-85eb-4f9b-b9b1-99a0130da168\">\n",
              "      <button class=\"colab-df-quickchart\" onclick=\"quickchart('df-8a2a4260-85eb-4f9b-b9b1-99a0130da168')\"\n",
              "                title=\"Suggest charts\"\n",
              "                style=\"display:none;\">\n",
              "\n",
              "<svg xmlns=\"http://www.w3.org/2000/svg\" height=\"24px\"viewBox=\"0 0 24 24\"\n",
              "     width=\"24px\">\n",
              "    <g>\n",
              "        <path d=\"M19 3H5c-1.1 0-2 .9-2 2v14c0 1.1.9 2 2 2h14c1.1 0 2-.9 2-2V5c0-1.1-.9-2-2-2zM9 17H7v-7h2v7zm4 0h-2V7h2v10zm4 0h-2v-4h2v4z\"/>\n",
              "    </g>\n",
              "</svg>\n",
              "      </button>\n",
              "\n",
              "<style>\n",
              "  .colab-df-quickchart {\n",
              "      --bg-color: #E8F0FE;\n",
              "      --fill-color: #1967D2;\n",
              "      --hover-bg-color: #E2EBFA;\n",
              "      --hover-fill-color: #174EA6;\n",
              "      --disabled-fill-color: #AAA;\n",
              "      --disabled-bg-color: #DDD;\n",
              "  }\n",
              "\n",
              "  [theme=dark] .colab-df-quickchart {\n",
              "      --bg-color: #3B4455;\n",
              "      --fill-color: #D2E3FC;\n",
              "      --hover-bg-color: #434B5C;\n",
              "      --hover-fill-color: #FFFFFF;\n",
              "      --disabled-bg-color: #3B4455;\n",
              "      --disabled-fill-color: #666;\n",
              "  }\n",
              "\n",
              "  .colab-df-quickchart {\n",
              "    background-color: var(--bg-color);\n",
              "    border: none;\n",
              "    border-radius: 50%;\n",
              "    cursor: pointer;\n",
              "    display: none;\n",
              "    fill: var(--fill-color);\n",
              "    height: 32px;\n",
              "    padding: 0;\n",
              "    width: 32px;\n",
              "  }\n",
              "\n",
              "  .colab-df-quickchart:hover {\n",
              "    background-color: var(--hover-bg-color);\n",
              "    box-shadow: 0 1px 2px rgba(60, 64, 67, 0.3), 0 1px 3px 1px rgba(60, 64, 67, 0.15);\n",
              "    fill: var(--button-hover-fill-color);\n",
              "  }\n",
              "\n",
              "  .colab-df-quickchart-complete:disabled,\n",
              "  .colab-df-quickchart-complete:disabled:hover {\n",
              "    background-color: var(--disabled-bg-color);\n",
              "    fill: var(--disabled-fill-color);\n",
              "    box-shadow: none;\n",
              "  }\n",
              "\n",
              "  .colab-df-spinner {\n",
              "    border: 2px solid var(--fill-color);\n",
              "    border-color: transparent;\n",
              "    border-bottom-color: var(--fill-color);\n",
              "    animation:\n",
              "      spin 1s steps(1) infinite;\n",
              "  }\n",
              "\n",
              "  @keyframes spin {\n",
              "    0% {\n",
              "      border-color: transparent;\n",
              "      border-bottom-color: var(--fill-color);\n",
              "      border-left-color: var(--fill-color);\n",
              "    }\n",
              "    20% {\n",
              "      border-color: transparent;\n",
              "      border-left-color: var(--fill-color);\n",
              "      border-top-color: var(--fill-color);\n",
              "    }\n",
              "    30% {\n",
              "      border-color: transparent;\n",
              "      border-left-color: var(--fill-color);\n",
              "      border-top-color: var(--fill-color);\n",
              "      border-right-color: var(--fill-color);\n",
              "    }\n",
              "    40% {\n",
              "      border-color: transparent;\n",
              "      border-right-color: var(--fill-color);\n",
              "      border-top-color: var(--fill-color);\n",
              "    }\n",
              "    60% {\n",
              "      border-color: transparent;\n",
              "      border-right-color: var(--fill-color);\n",
              "    }\n",
              "    80% {\n",
              "      border-color: transparent;\n",
              "      border-right-color: var(--fill-color);\n",
              "      border-bottom-color: var(--fill-color);\n",
              "    }\n",
              "    90% {\n",
              "      border-color: transparent;\n",
              "      border-bottom-color: var(--fill-color);\n",
              "    }\n",
              "  }\n",
              "</style>\n",
              "\n",
              "      <script>\n",
              "        async function quickchart(key) {\n",
              "          const quickchartButtonEl =\n",
              "            document.querySelector('#' + key + ' button');\n",
              "          quickchartButtonEl.disabled = true;  // To prevent multiple clicks.\n",
              "          quickchartButtonEl.classList.add('colab-df-spinner');\n",
              "          try {\n",
              "            const charts = await google.colab.kernel.invokeFunction(\n",
              "                'suggestCharts', [key], {});\n",
              "          } catch (error) {\n",
              "            console.error('Error during call to suggestCharts:', error);\n",
              "          }\n",
              "          quickchartButtonEl.classList.remove('colab-df-spinner');\n",
              "          quickchartButtonEl.classList.add('colab-df-quickchart-complete');\n",
              "        }\n",
              "        (() => {\n",
              "          let quickchartButtonEl =\n",
              "            document.querySelector('#df-8a2a4260-85eb-4f9b-b9b1-99a0130da168 button');\n",
              "          quickchartButtonEl.style.display =\n",
              "            google.colab.kernel.accessAllowed ? 'block' : 'none';\n",
              "        })();\n",
              "      </script>\n",
              "    </div>\n",
              "\n",
              "    </div>\n",
              "  </div>\n"
            ],
            "application/vnd.google.colaboratory.intrinsic+json": {
              "type": "dataframe",
              "variable_name": "train_set",
              "summary": "{\n  \"name\": \"train_set\",\n  \"rows\": 712,\n  \"fields\": [\n    {\n      \"column\": \"Pclass\",\n      \"properties\": {\n        \"dtype\": \"number\",\n        \"std\": 0,\n        \"min\": 1,\n        \"max\": 3,\n        \"num_unique_values\": 3,\n        \"samples\": [\n          1,\n          2,\n          3\n        ],\n        \"semantic_type\": \"\",\n        \"description\": \"\"\n      }\n    },\n    {\n      \"column\": \"Sex\",\n      \"properties\": {\n        \"dtype\": \"number\",\n        \"std\": 0,\n        \"min\": 0,\n        \"max\": 1,\n        \"num_unique_values\": 2,\n        \"samples\": [\n          1,\n          0\n        ],\n        \"semantic_type\": \"\",\n        \"description\": \"\"\n      }\n    },\n    {\n      \"column\": \"Age\",\n      \"properties\": {\n        \"dtype\": \"number\",\n        \"std\": 13.188028073879348,\n        \"min\": 0.67,\n        \"max\": 80.0,\n        \"num_unique_values\": 85,\n        \"samples\": [\n          34.5,\n          54.0\n        ],\n        \"semantic_type\": \"\",\n        \"description\": \"\"\n      }\n    },\n    {\n      \"column\": \"SibSp\",\n      \"properties\": {\n        \"dtype\": \"number\",\n        \"std\": 1,\n        \"min\": 0,\n        \"max\": 8,\n        \"num_unique_values\": 7,\n        \"samples\": [\n          1,\n          0\n        ],\n        \"semantic_type\": \"\",\n        \"description\": \"\"\n      }\n    },\n    {\n      \"column\": \"Parch\",\n      \"properties\": {\n        \"dtype\": \"number\",\n        \"std\": 0,\n        \"min\": 0,\n        \"max\": 6,\n        \"num_unique_values\": 7,\n        \"samples\": [\n          0,\n          1\n        ],\n        \"semantic_type\": \"\",\n        \"description\": \"\"\n      }\n    },\n    {\n      \"column\": \"Fare\",\n      \"properties\": {\n        \"dtype\": \"number\",\n        \"std\": 49.83607355877583,\n        \"min\": 0.0,\n        \"max\": 512.3292,\n        \"num_unique_values\": 222,\n        \"samples\": [\n          153.4625,\n          15.05\n        ],\n        \"semantic_type\": \"\",\n        \"description\": \"\"\n      }\n    },\n    {\n      \"column\": \"Embarked\",\n      \"properties\": {\n        \"dtype\": \"number\",\n        \"std\": 0,\n        \"min\": 0,\n        \"max\": 3,\n        \"num_unique_values\": 4,\n        \"samples\": [\n          0,\n          3\n        ],\n        \"semantic_type\": \"\",\n        \"description\": \"\"\n      }\n    },\n    {\n      \"column\": \"Survived\",\n      \"properties\": {\n        \"dtype\": \"number\",\n        \"std\": 0,\n        \"min\": 0,\n        \"max\": 1,\n        \"num_unique_values\": 2,\n        \"samples\": [\n          0,\n          1\n        ],\n        \"semantic_type\": \"\",\n        \"description\": \"\"\n      }\n    }\n  ]\n}"
            }
          },
          "metadata": {},
          "execution_count": 4
        }
      ],
      "source": [
        "train_set.head()"
      ]
    },
    {
      "cell_type": "code",
      "source": [
        "test_set.head()"
      ],
      "metadata": {
        "colab": {
          "base_uri": "https://localhost:8080/",
          "height": 206
        },
        "id": "p4ynrDGTfyU0",
        "outputId": "b760eec1-b3f4-4a94-b208-3fdd3e00e749"
      },
      "id": "p4ynrDGTfyU0",
      "execution_count": 5,
      "outputs": [
        {
          "output_type": "execute_result",
          "data": {
            "text/plain": [
              "   Pclass  Sex        Age  SibSp  Parch     Fare  Embarked  Survived\n",
              "0       3    1  35.000000      0      0   7.0500         0         0\n",
              "1       3    1  30.000000      0      0   7.2500         0         0\n",
              "2       3    1  29.699118      0      0  14.5000         0         0\n",
              "3       3    0  21.000000      0      0   7.7500         2         0\n",
              "4       3    1  32.000000      0      0  56.4958         0         1"
            ],
            "text/html": [
              "\n",
              "  <div id=\"df-0f28699b-984a-4713-a92e-0bbdbe319512\" class=\"colab-df-container\">\n",
              "    <div>\n",
              "<style scoped>\n",
              "    .dataframe tbody tr th:only-of-type {\n",
              "        vertical-align: middle;\n",
              "    }\n",
              "\n",
              "    .dataframe tbody tr th {\n",
              "        vertical-align: top;\n",
              "    }\n",
              "\n",
              "    .dataframe thead th {\n",
              "        text-align: right;\n",
              "    }\n",
              "</style>\n",
              "<table border=\"1\" class=\"dataframe\">\n",
              "  <thead>\n",
              "    <tr style=\"text-align: right;\">\n",
              "      <th></th>\n",
              "      <th>Pclass</th>\n",
              "      <th>Sex</th>\n",
              "      <th>Age</th>\n",
              "      <th>SibSp</th>\n",
              "      <th>Parch</th>\n",
              "      <th>Fare</th>\n",
              "      <th>Embarked</th>\n",
              "      <th>Survived</th>\n",
              "    </tr>\n",
              "  </thead>\n",
              "  <tbody>\n",
              "    <tr>\n",
              "      <th>0</th>\n",
              "      <td>3</td>\n",
              "      <td>1</td>\n",
              "      <td>35.000000</td>\n",
              "      <td>0</td>\n",
              "      <td>0</td>\n",
              "      <td>7.0500</td>\n",
              "      <td>0</td>\n",
              "      <td>0</td>\n",
              "    </tr>\n",
              "    <tr>\n",
              "      <th>1</th>\n",
              "      <td>3</td>\n",
              "      <td>1</td>\n",
              "      <td>30.000000</td>\n",
              "      <td>0</td>\n",
              "      <td>0</td>\n",
              "      <td>7.2500</td>\n",
              "      <td>0</td>\n",
              "      <td>0</td>\n",
              "    </tr>\n",
              "    <tr>\n",
              "      <th>2</th>\n",
              "      <td>3</td>\n",
              "      <td>1</td>\n",
              "      <td>29.699118</td>\n",
              "      <td>0</td>\n",
              "      <td>0</td>\n",
              "      <td>14.5000</td>\n",
              "      <td>0</td>\n",
              "      <td>0</td>\n",
              "    </tr>\n",
              "    <tr>\n",
              "      <th>3</th>\n",
              "      <td>3</td>\n",
              "      <td>0</td>\n",
              "      <td>21.000000</td>\n",
              "      <td>0</td>\n",
              "      <td>0</td>\n",
              "      <td>7.7500</td>\n",
              "      <td>2</td>\n",
              "      <td>0</td>\n",
              "    </tr>\n",
              "    <tr>\n",
              "      <th>4</th>\n",
              "      <td>3</td>\n",
              "      <td>1</td>\n",
              "      <td>32.000000</td>\n",
              "      <td>0</td>\n",
              "      <td>0</td>\n",
              "      <td>56.4958</td>\n",
              "      <td>0</td>\n",
              "      <td>1</td>\n",
              "    </tr>\n",
              "  </tbody>\n",
              "</table>\n",
              "</div>\n",
              "    <div class=\"colab-df-buttons\">\n",
              "\n",
              "  <div class=\"colab-df-container\">\n",
              "    <button class=\"colab-df-convert\" onclick=\"convertToInteractive('df-0f28699b-984a-4713-a92e-0bbdbe319512')\"\n",
              "            title=\"Convert this dataframe to an interactive table.\"\n",
              "            style=\"display:none;\">\n",
              "\n",
              "  <svg xmlns=\"http://www.w3.org/2000/svg\" height=\"24px\" viewBox=\"0 -960 960 960\">\n",
              "    <path d=\"M120-120v-720h720v720H120Zm60-500h600v-160H180v160Zm220 220h160v-160H400v160Zm0 220h160v-160H400v160ZM180-400h160v-160H180v160Zm440 0h160v-160H620v160ZM180-180h160v-160H180v160Zm440 0h160v-160H620v160Z\"/>\n",
              "  </svg>\n",
              "    </button>\n",
              "\n",
              "  <style>\n",
              "    .colab-df-container {\n",
              "      display:flex;\n",
              "      gap: 12px;\n",
              "    }\n",
              "\n",
              "    .colab-df-convert {\n",
              "      background-color: #E8F0FE;\n",
              "      border: none;\n",
              "      border-radius: 50%;\n",
              "      cursor: pointer;\n",
              "      display: none;\n",
              "      fill: #1967D2;\n",
              "      height: 32px;\n",
              "      padding: 0 0 0 0;\n",
              "      width: 32px;\n",
              "    }\n",
              "\n",
              "    .colab-df-convert:hover {\n",
              "      background-color: #E2EBFA;\n",
              "      box-shadow: 0px 1px 2px rgba(60, 64, 67, 0.3), 0px 1px 3px 1px rgba(60, 64, 67, 0.15);\n",
              "      fill: #174EA6;\n",
              "    }\n",
              "\n",
              "    .colab-df-buttons div {\n",
              "      margin-bottom: 4px;\n",
              "    }\n",
              "\n",
              "    [theme=dark] .colab-df-convert {\n",
              "      background-color: #3B4455;\n",
              "      fill: #D2E3FC;\n",
              "    }\n",
              "\n",
              "    [theme=dark] .colab-df-convert:hover {\n",
              "      background-color: #434B5C;\n",
              "      box-shadow: 0px 1px 3px 1px rgba(0, 0, 0, 0.15);\n",
              "      filter: drop-shadow(0px 1px 2px rgba(0, 0, 0, 0.3));\n",
              "      fill: #FFFFFF;\n",
              "    }\n",
              "  </style>\n",
              "\n",
              "    <script>\n",
              "      const buttonEl =\n",
              "        document.querySelector('#df-0f28699b-984a-4713-a92e-0bbdbe319512 button.colab-df-convert');\n",
              "      buttonEl.style.display =\n",
              "        google.colab.kernel.accessAllowed ? 'block' : 'none';\n",
              "\n",
              "      async function convertToInteractive(key) {\n",
              "        const element = document.querySelector('#df-0f28699b-984a-4713-a92e-0bbdbe319512');\n",
              "        const dataTable =\n",
              "          await google.colab.kernel.invokeFunction('convertToInteractive',\n",
              "                                                    [key], {});\n",
              "        if (!dataTable) return;\n",
              "\n",
              "        const docLinkHtml = 'Like what you see? Visit the ' +\n",
              "          '<a target=\"_blank\" href=https://colab.research.google.com/notebooks/data_table.ipynb>data table notebook</a>'\n",
              "          + ' to learn more about interactive tables.';\n",
              "        element.innerHTML = '';\n",
              "        dataTable['output_type'] = 'display_data';\n",
              "        await google.colab.output.renderOutput(dataTable, element);\n",
              "        const docLink = document.createElement('div');\n",
              "        docLink.innerHTML = docLinkHtml;\n",
              "        element.appendChild(docLink);\n",
              "      }\n",
              "    </script>\n",
              "  </div>\n",
              "\n",
              "\n",
              "    <div id=\"df-d25a5174-f9fd-447b-b090-9ccc01b6b291\">\n",
              "      <button class=\"colab-df-quickchart\" onclick=\"quickchart('df-d25a5174-f9fd-447b-b090-9ccc01b6b291')\"\n",
              "                title=\"Suggest charts\"\n",
              "                style=\"display:none;\">\n",
              "\n",
              "<svg xmlns=\"http://www.w3.org/2000/svg\" height=\"24px\"viewBox=\"0 0 24 24\"\n",
              "     width=\"24px\">\n",
              "    <g>\n",
              "        <path d=\"M19 3H5c-1.1 0-2 .9-2 2v14c0 1.1.9 2 2 2h14c1.1 0 2-.9 2-2V5c0-1.1-.9-2-2-2zM9 17H7v-7h2v7zm4 0h-2V7h2v10zm4 0h-2v-4h2v4z\"/>\n",
              "    </g>\n",
              "</svg>\n",
              "      </button>\n",
              "\n",
              "<style>\n",
              "  .colab-df-quickchart {\n",
              "      --bg-color: #E8F0FE;\n",
              "      --fill-color: #1967D2;\n",
              "      --hover-bg-color: #E2EBFA;\n",
              "      --hover-fill-color: #174EA6;\n",
              "      --disabled-fill-color: #AAA;\n",
              "      --disabled-bg-color: #DDD;\n",
              "  }\n",
              "\n",
              "  [theme=dark] .colab-df-quickchart {\n",
              "      --bg-color: #3B4455;\n",
              "      --fill-color: #D2E3FC;\n",
              "      --hover-bg-color: #434B5C;\n",
              "      --hover-fill-color: #FFFFFF;\n",
              "      --disabled-bg-color: #3B4455;\n",
              "      --disabled-fill-color: #666;\n",
              "  }\n",
              "\n",
              "  .colab-df-quickchart {\n",
              "    background-color: var(--bg-color);\n",
              "    border: none;\n",
              "    border-radius: 50%;\n",
              "    cursor: pointer;\n",
              "    display: none;\n",
              "    fill: var(--fill-color);\n",
              "    height: 32px;\n",
              "    padding: 0;\n",
              "    width: 32px;\n",
              "  }\n",
              "\n",
              "  .colab-df-quickchart:hover {\n",
              "    background-color: var(--hover-bg-color);\n",
              "    box-shadow: 0 1px 2px rgba(60, 64, 67, 0.3), 0 1px 3px 1px rgba(60, 64, 67, 0.15);\n",
              "    fill: var(--button-hover-fill-color);\n",
              "  }\n",
              "\n",
              "  .colab-df-quickchart-complete:disabled,\n",
              "  .colab-df-quickchart-complete:disabled:hover {\n",
              "    background-color: var(--disabled-bg-color);\n",
              "    fill: var(--disabled-fill-color);\n",
              "    box-shadow: none;\n",
              "  }\n",
              "\n",
              "  .colab-df-spinner {\n",
              "    border: 2px solid var(--fill-color);\n",
              "    border-color: transparent;\n",
              "    border-bottom-color: var(--fill-color);\n",
              "    animation:\n",
              "      spin 1s steps(1) infinite;\n",
              "  }\n",
              "\n",
              "  @keyframes spin {\n",
              "    0% {\n",
              "      border-color: transparent;\n",
              "      border-bottom-color: var(--fill-color);\n",
              "      border-left-color: var(--fill-color);\n",
              "    }\n",
              "    20% {\n",
              "      border-color: transparent;\n",
              "      border-left-color: var(--fill-color);\n",
              "      border-top-color: var(--fill-color);\n",
              "    }\n",
              "    30% {\n",
              "      border-color: transparent;\n",
              "      border-left-color: var(--fill-color);\n",
              "      border-top-color: var(--fill-color);\n",
              "      border-right-color: var(--fill-color);\n",
              "    }\n",
              "    40% {\n",
              "      border-color: transparent;\n",
              "      border-right-color: var(--fill-color);\n",
              "      border-top-color: var(--fill-color);\n",
              "    }\n",
              "    60% {\n",
              "      border-color: transparent;\n",
              "      border-right-color: var(--fill-color);\n",
              "    }\n",
              "    80% {\n",
              "      border-color: transparent;\n",
              "      border-right-color: var(--fill-color);\n",
              "      border-bottom-color: var(--fill-color);\n",
              "    }\n",
              "    90% {\n",
              "      border-color: transparent;\n",
              "      border-bottom-color: var(--fill-color);\n",
              "    }\n",
              "  }\n",
              "</style>\n",
              "\n",
              "      <script>\n",
              "        async function quickchart(key) {\n",
              "          const quickchartButtonEl =\n",
              "            document.querySelector('#' + key + ' button');\n",
              "          quickchartButtonEl.disabled = true;  // To prevent multiple clicks.\n",
              "          quickchartButtonEl.classList.add('colab-df-spinner');\n",
              "          try {\n",
              "            const charts = await google.colab.kernel.invokeFunction(\n",
              "                'suggestCharts', [key], {});\n",
              "          } catch (error) {\n",
              "            console.error('Error during call to suggestCharts:', error);\n",
              "          }\n",
              "          quickchartButtonEl.classList.remove('colab-df-spinner');\n",
              "          quickchartButtonEl.classList.add('colab-df-quickchart-complete');\n",
              "        }\n",
              "        (() => {\n",
              "          let quickchartButtonEl =\n",
              "            document.querySelector('#df-d25a5174-f9fd-447b-b090-9ccc01b6b291 button');\n",
              "          quickchartButtonEl.style.display =\n",
              "            google.colab.kernel.accessAllowed ? 'block' : 'none';\n",
              "        })();\n",
              "      </script>\n",
              "    </div>\n",
              "\n",
              "    </div>\n",
              "  </div>\n"
            ],
            "application/vnd.google.colaboratory.intrinsic+json": {
              "type": "dataframe",
              "variable_name": "test_set",
              "summary": "{\n  \"name\": \"test_set\",\n  \"rows\": 179,\n  \"fields\": [\n    {\n      \"column\": \"Pclass\",\n      \"properties\": {\n        \"dtype\": \"number\",\n        \"std\": 0,\n        \"min\": 1,\n        \"max\": 3,\n        \"num_unique_values\": 3,\n        \"samples\": [\n          3,\n          1,\n          2\n        ],\n        \"semantic_type\": \"\",\n        \"description\": \"\"\n      }\n    },\n    {\n      \"column\": \"Sex\",\n      \"properties\": {\n        \"dtype\": \"number\",\n        \"std\": 0,\n        \"min\": 0,\n        \"max\": 1,\n        \"num_unique_values\": 2,\n        \"samples\": [\n          0,\n          1\n        ],\n        \"semantic_type\": \"\",\n        \"description\": \"\"\n      }\n    },\n    {\n      \"column\": \"Age\",\n      \"properties\": {\n        \"dtype\": \"number\",\n        \"std\": 12.246691205806366,\n        \"min\": 0.42,\n        \"max\": 71.0,\n        \"num_unique_values\": 54,\n        \"samples\": [\n          61.0,\n          41.0\n        ],\n        \"semantic_type\": \"\",\n        \"description\": \"\"\n      }\n    },\n    {\n      \"column\": \"SibSp\",\n      \"properties\": {\n        \"dtype\": \"number\",\n        \"std\": 1,\n        \"min\": 0,\n        \"max\": 8,\n        \"num_unique_values\": 6,\n        \"samples\": [\n          0,\n          1\n        ],\n        \"semantic_type\": \"\",\n        \"description\": \"\"\n      }\n    },\n    {\n      \"column\": \"Parch\",\n      \"properties\": {\n        \"dtype\": \"number\",\n        \"std\": 0,\n        \"min\": 0,\n        \"max\": 5,\n        \"num_unique_values\": 5,\n        \"samples\": [\n          2,\n          5\n        ],\n        \"semantic_type\": \"\",\n        \"description\": \"\"\n      }\n    },\n    {\n      \"column\": \"Fare\",\n      \"properties\": {\n        \"dtype\": \"number\",\n        \"std\": 49.25432989733065,\n        \"min\": 0.0,\n        \"max\": 263.0,\n        \"num_unique_values\": 102,\n        \"samples\": [\n          34.375,\n          7.7958\n        ],\n        \"semantic_type\": \"\",\n        \"description\": \"\"\n      }\n    },\n    {\n      \"column\": \"Embarked\",\n      \"properties\": {\n        \"dtype\": \"number\",\n        \"std\": 0,\n        \"min\": 0,\n        \"max\": 3,\n        \"num_unique_values\": 4,\n        \"samples\": [\n          2,\n          3\n        ],\n        \"semantic_type\": \"\",\n        \"description\": \"\"\n      }\n    },\n    {\n      \"column\": \"Survived\",\n      \"properties\": {\n        \"dtype\": \"number\",\n        \"std\": 0,\n        \"min\": 0,\n        \"max\": 1,\n        \"num_unique_values\": 2,\n        \"samples\": [\n          1,\n          0\n        ],\n        \"semantic_type\": \"\",\n        \"description\": \"\"\n      }\n    }\n  ]\n}"
            }
          },
          "metadata": {},
          "execution_count": 5
        }
      ]
    },
    {
      "cell_type": "markdown",
      "source": [
        "### EDA"
      ],
      "metadata": {
        "id": "iIY-h4c-iIZ8"
      },
      "id": "iIY-h4c-iIZ8"
    },
    {
      "cell_type": "code",
      "source": [
        "train_set.shape"
      ],
      "metadata": {
        "colab": {
          "base_uri": "https://localhost:8080/"
        },
        "id": "hXU_ISNZj3bx",
        "outputId": "9040bbaf-c885-44d6-bed6-48f4fbd15975"
      },
      "id": "hXU_ISNZj3bx",
      "execution_count": 6,
      "outputs": [
        {
          "output_type": "execute_result",
          "data": {
            "text/plain": [
              "(712, 8)"
            ]
          },
          "metadata": {},
          "execution_count": 6
        }
      ]
    },
    {
      "cell_type": "code",
      "source": [
        "train_set.describe()"
      ],
      "metadata": {
        "colab": {
          "base_uri": "https://localhost:8080/",
          "height": 300
        },
        "id": "SdWBKvLXicMO",
        "outputId": "910e0fda-8244-4cdc-c897-4ee10d161b6a"
      },
      "id": "SdWBKvLXicMO",
      "execution_count": 7,
      "outputs": [
        {
          "output_type": "execute_result",
          "data": {
            "text/plain": [
              "           Pclass         Sex         Age       SibSp       Parch        Fare  \\\n",
              "count  712.000000  712.000000  712.000000  712.000000  712.000000  712.000000   \n",
              "mean     2.294944    0.640449   29.531213    0.528090    0.384831   32.379429   \n",
              "std      0.841990    0.480206   13.188028    1.055052    0.803085   49.836074   \n",
              "min      1.000000    0.000000    0.670000    0.000000    0.000000    0.000000   \n",
              "25%      1.750000    0.000000   22.000000    0.000000    0.000000    7.925000   \n",
              "50%      3.000000    1.000000   29.699118    0.000000    0.000000   14.500000   \n",
              "75%      3.000000    1.000000   35.000000    1.000000    0.000000   31.275000   \n",
              "max      3.000000    1.000000   80.000000    8.000000    6.000000  512.329200   \n",
              "\n",
              "         Embarked    Survived  \n",
              "count  712.000000  712.000000  \n",
              "mean     0.372191    0.394663  \n",
              "std      0.649970    0.489122  \n",
              "min      0.000000    0.000000  \n",
              "25%      0.000000    0.000000  \n",
              "50%      0.000000    0.000000  \n",
              "75%      1.000000    1.000000  \n",
              "max      3.000000    1.000000  "
            ],
            "text/html": [
              "\n",
              "  <div id=\"df-53a9a162-96c4-427c-b294-1f8e9d2d0c11\" class=\"colab-df-container\">\n",
              "    <div>\n",
              "<style scoped>\n",
              "    .dataframe tbody tr th:only-of-type {\n",
              "        vertical-align: middle;\n",
              "    }\n",
              "\n",
              "    .dataframe tbody tr th {\n",
              "        vertical-align: top;\n",
              "    }\n",
              "\n",
              "    .dataframe thead th {\n",
              "        text-align: right;\n",
              "    }\n",
              "</style>\n",
              "<table border=\"1\" class=\"dataframe\">\n",
              "  <thead>\n",
              "    <tr style=\"text-align: right;\">\n",
              "      <th></th>\n",
              "      <th>Pclass</th>\n",
              "      <th>Sex</th>\n",
              "      <th>Age</th>\n",
              "      <th>SibSp</th>\n",
              "      <th>Parch</th>\n",
              "      <th>Fare</th>\n",
              "      <th>Embarked</th>\n",
              "      <th>Survived</th>\n",
              "    </tr>\n",
              "  </thead>\n",
              "  <tbody>\n",
              "    <tr>\n",
              "      <th>count</th>\n",
              "      <td>712.000000</td>\n",
              "      <td>712.000000</td>\n",
              "      <td>712.000000</td>\n",
              "      <td>712.000000</td>\n",
              "      <td>712.000000</td>\n",
              "      <td>712.000000</td>\n",
              "      <td>712.000000</td>\n",
              "      <td>712.000000</td>\n",
              "    </tr>\n",
              "    <tr>\n",
              "      <th>mean</th>\n",
              "      <td>2.294944</td>\n",
              "      <td>0.640449</td>\n",
              "      <td>29.531213</td>\n",
              "      <td>0.528090</td>\n",
              "      <td>0.384831</td>\n",
              "      <td>32.379429</td>\n",
              "      <td>0.372191</td>\n",
              "      <td>0.394663</td>\n",
              "    </tr>\n",
              "    <tr>\n",
              "      <th>std</th>\n",
              "      <td>0.841990</td>\n",
              "      <td>0.480206</td>\n",
              "      <td>13.188028</td>\n",
              "      <td>1.055052</td>\n",
              "      <td>0.803085</td>\n",
              "      <td>49.836074</td>\n",
              "      <td>0.649970</td>\n",
              "      <td>0.489122</td>\n",
              "    </tr>\n",
              "    <tr>\n",
              "      <th>min</th>\n",
              "      <td>1.000000</td>\n",
              "      <td>0.000000</td>\n",
              "      <td>0.670000</td>\n",
              "      <td>0.000000</td>\n",
              "      <td>0.000000</td>\n",
              "      <td>0.000000</td>\n",
              "      <td>0.000000</td>\n",
              "      <td>0.000000</td>\n",
              "    </tr>\n",
              "    <tr>\n",
              "      <th>25%</th>\n",
              "      <td>1.750000</td>\n",
              "      <td>0.000000</td>\n",
              "      <td>22.000000</td>\n",
              "      <td>0.000000</td>\n",
              "      <td>0.000000</td>\n",
              "      <td>7.925000</td>\n",
              "      <td>0.000000</td>\n",
              "      <td>0.000000</td>\n",
              "    </tr>\n",
              "    <tr>\n",
              "      <th>50%</th>\n",
              "      <td>3.000000</td>\n",
              "      <td>1.000000</td>\n",
              "      <td>29.699118</td>\n",
              "      <td>0.000000</td>\n",
              "      <td>0.000000</td>\n",
              "      <td>14.500000</td>\n",
              "      <td>0.000000</td>\n",
              "      <td>0.000000</td>\n",
              "    </tr>\n",
              "    <tr>\n",
              "      <th>75%</th>\n",
              "      <td>3.000000</td>\n",
              "      <td>1.000000</td>\n",
              "      <td>35.000000</td>\n",
              "      <td>1.000000</td>\n",
              "      <td>0.000000</td>\n",
              "      <td>31.275000</td>\n",
              "      <td>1.000000</td>\n",
              "      <td>1.000000</td>\n",
              "    </tr>\n",
              "    <tr>\n",
              "      <th>max</th>\n",
              "      <td>3.000000</td>\n",
              "      <td>1.000000</td>\n",
              "      <td>80.000000</td>\n",
              "      <td>8.000000</td>\n",
              "      <td>6.000000</td>\n",
              "      <td>512.329200</td>\n",
              "      <td>3.000000</td>\n",
              "      <td>1.000000</td>\n",
              "    </tr>\n",
              "  </tbody>\n",
              "</table>\n",
              "</div>\n",
              "    <div class=\"colab-df-buttons\">\n",
              "\n",
              "  <div class=\"colab-df-container\">\n",
              "    <button class=\"colab-df-convert\" onclick=\"convertToInteractive('df-53a9a162-96c4-427c-b294-1f8e9d2d0c11')\"\n",
              "            title=\"Convert this dataframe to an interactive table.\"\n",
              "            style=\"display:none;\">\n",
              "\n",
              "  <svg xmlns=\"http://www.w3.org/2000/svg\" height=\"24px\" viewBox=\"0 -960 960 960\">\n",
              "    <path d=\"M120-120v-720h720v720H120Zm60-500h600v-160H180v160Zm220 220h160v-160H400v160Zm0 220h160v-160H400v160ZM180-400h160v-160H180v160Zm440 0h160v-160H620v160ZM180-180h160v-160H180v160Zm440 0h160v-160H620v160Z\"/>\n",
              "  </svg>\n",
              "    </button>\n",
              "\n",
              "  <style>\n",
              "    .colab-df-container {\n",
              "      display:flex;\n",
              "      gap: 12px;\n",
              "    }\n",
              "\n",
              "    .colab-df-convert {\n",
              "      background-color: #E8F0FE;\n",
              "      border: none;\n",
              "      border-radius: 50%;\n",
              "      cursor: pointer;\n",
              "      display: none;\n",
              "      fill: #1967D2;\n",
              "      height: 32px;\n",
              "      padding: 0 0 0 0;\n",
              "      width: 32px;\n",
              "    }\n",
              "\n",
              "    .colab-df-convert:hover {\n",
              "      background-color: #E2EBFA;\n",
              "      box-shadow: 0px 1px 2px rgba(60, 64, 67, 0.3), 0px 1px 3px 1px rgba(60, 64, 67, 0.15);\n",
              "      fill: #174EA6;\n",
              "    }\n",
              "\n",
              "    .colab-df-buttons div {\n",
              "      margin-bottom: 4px;\n",
              "    }\n",
              "\n",
              "    [theme=dark] .colab-df-convert {\n",
              "      background-color: #3B4455;\n",
              "      fill: #D2E3FC;\n",
              "    }\n",
              "\n",
              "    [theme=dark] .colab-df-convert:hover {\n",
              "      background-color: #434B5C;\n",
              "      box-shadow: 0px 1px 3px 1px rgba(0, 0, 0, 0.15);\n",
              "      filter: drop-shadow(0px 1px 2px rgba(0, 0, 0, 0.3));\n",
              "      fill: #FFFFFF;\n",
              "    }\n",
              "  </style>\n",
              "\n",
              "    <script>\n",
              "      const buttonEl =\n",
              "        document.querySelector('#df-53a9a162-96c4-427c-b294-1f8e9d2d0c11 button.colab-df-convert');\n",
              "      buttonEl.style.display =\n",
              "        google.colab.kernel.accessAllowed ? 'block' : 'none';\n",
              "\n",
              "      async function convertToInteractive(key) {\n",
              "        const element = document.querySelector('#df-53a9a162-96c4-427c-b294-1f8e9d2d0c11');\n",
              "        const dataTable =\n",
              "          await google.colab.kernel.invokeFunction('convertToInteractive',\n",
              "                                                    [key], {});\n",
              "        if (!dataTable) return;\n",
              "\n",
              "        const docLinkHtml = 'Like what you see? Visit the ' +\n",
              "          '<a target=\"_blank\" href=https://colab.research.google.com/notebooks/data_table.ipynb>data table notebook</a>'\n",
              "          + ' to learn more about interactive tables.';\n",
              "        element.innerHTML = '';\n",
              "        dataTable['output_type'] = 'display_data';\n",
              "        await google.colab.output.renderOutput(dataTable, element);\n",
              "        const docLink = document.createElement('div');\n",
              "        docLink.innerHTML = docLinkHtml;\n",
              "        element.appendChild(docLink);\n",
              "      }\n",
              "    </script>\n",
              "  </div>\n",
              "\n",
              "\n",
              "    <div id=\"df-dec0d005-1bdc-4fba-accd-6d66b5b0ece2\">\n",
              "      <button class=\"colab-df-quickchart\" onclick=\"quickchart('df-dec0d005-1bdc-4fba-accd-6d66b5b0ece2')\"\n",
              "                title=\"Suggest charts\"\n",
              "                style=\"display:none;\">\n",
              "\n",
              "<svg xmlns=\"http://www.w3.org/2000/svg\" height=\"24px\"viewBox=\"0 0 24 24\"\n",
              "     width=\"24px\">\n",
              "    <g>\n",
              "        <path d=\"M19 3H5c-1.1 0-2 .9-2 2v14c0 1.1.9 2 2 2h14c1.1 0 2-.9 2-2V5c0-1.1-.9-2-2-2zM9 17H7v-7h2v7zm4 0h-2V7h2v10zm4 0h-2v-4h2v4z\"/>\n",
              "    </g>\n",
              "</svg>\n",
              "      </button>\n",
              "\n",
              "<style>\n",
              "  .colab-df-quickchart {\n",
              "      --bg-color: #E8F0FE;\n",
              "      --fill-color: #1967D2;\n",
              "      --hover-bg-color: #E2EBFA;\n",
              "      --hover-fill-color: #174EA6;\n",
              "      --disabled-fill-color: #AAA;\n",
              "      --disabled-bg-color: #DDD;\n",
              "  }\n",
              "\n",
              "  [theme=dark] .colab-df-quickchart {\n",
              "      --bg-color: #3B4455;\n",
              "      --fill-color: #D2E3FC;\n",
              "      --hover-bg-color: #434B5C;\n",
              "      --hover-fill-color: #FFFFFF;\n",
              "      --disabled-bg-color: #3B4455;\n",
              "      --disabled-fill-color: #666;\n",
              "  }\n",
              "\n",
              "  .colab-df-quickchart {\n",
              "    background-color: var(--bg-color);\n",
              "    border: none;\n",
              "    border-radius: 50%;\n",
              "    cursor: pointer;\n",
              "    display: none;\n",
              "    fill: var(--fill-color);\n",
              "    height: 32px;\n",
              "    padding: 0;\n",
              "    width: 32px;\n",
              "  }\n",
              "\n",
              "  .colab-df-quickchart:hover {\n",
              "    background-color: var(--hover-bg-color);\n",
              "    box-shadow: 0 1px 2px rgba(60, 64, 67, 0.3), 0 1px 3px 1px rgba(60, 64, 67, 0.15);\n",
              "    fill: var(--button-hover-fill-color);\n",
              "  }\n",
              "\n",
              "  .colab-df-quickchart-complete:disabled,\n",
              "  .colab-df-quickchart-complete:disabled:hover {\n",
              "    background-color: var(--disabled-bg-color);\n",
              "    fill: var(--disabled-fill-color);\n",
              "    box-shadow: none;\n",
              "  }\n",
              "\n",
              "  .colab-df-spinner {\n",
              "    border: 2px solid var(--fill-color);\n",
              "    border-color: transparent;\n",
              "    border-bottom-color: var(--fill-color);\n",
              "    animation:\n",
              "      spin 1s steps(1) infinite;\n",
              "  }\n",
              "\n",
              "  @keyframes spin {\n",
              "    0% {\n",
              "      border-color: transparent;\n",
              "      border-bottom-color: var(--fill-color);\n",
              "      border-left-color: var(--fill-color);\n",
              "    }\n",
              "    20% {\n",
              "      border-color: transparent;\n",
              "      border-left-color: var(--fill-color);\n",
              "      border-top-color: var(--fill-color);\n",
              "    }\n",
              "    30% {\n",
              "      border-color: transparent;\n",
              "      border-left-color: var(--fill-color);\n",
              "      border-top-color: var(--fill-color);\n",
              "      border-right-color: var(--fill-color);\n",
              "    }\n",
              "    40% {\n",
              "      border-color: transparent;\n",
              "      border-right-color: var(--fill-color);\n",
              "      border-top-color: var(--fill-color);\n",
              "    }\n",
              "    60% {\n",
              "      border-color: transparent;\n",
              "      border-right-color: var(--fill-color);\n",
              "    }\n",
              "    80% {\n",
              "      border-color: transparent;\n",
              "      border-right-color: var(--fill-color);\n",
              "      border-bottom-color: var(--fill-color);\n",
              "    }\n",
              "    90% {\n",
              "      border-color: transparent;\n",
              "      border-bottom-color: var(--fill-color);\n",
              "    }\n",
              "  }\n",
              "</style>\n",
              "\n",
              "      <script>\n",
              "        async function quickchart(key) {\n",
              "          const quickchartButtonEl =\n",
              "            document.querySelector('#' + key + ' button');\n",
              "          quickchartButtonEl.disabled = true;  // To prevent multiple clicks.\n",
              "          quickchartButtonEl.classList.add('colab-df-spinner');\n",
              "          try {\n",
              "            const charts = await google.colab.kernel.invokeFunction(\n",
              "                'suggestCharts', [key], {});\n",
              "          } catch (error) {\n",
              "            console.error('Error during call to suggestCharts:', error);\n",
              "          }\n",
              "          quickchartButtonEl.classList.remove('colab-df-spinner');\n",
              "          quickchartButtonEl.classList.add('colab-df-quickchart-complete');\n",
              "        }\n",
              "        (() => {\n",
              "          let quickchartButtonEl =\n",
              "            document.querySelector('#df-dec0d005-1bdc-4fba-accd-6d66b5b0ece2 button');\n",
              "          quickchartButtonEl.style.display =\n",
              "            google.colab.kernel.accessAllowed ? 'block' : 'none';\n",
              "        })();\n",
              "      </script>\n",
              "    </div>\n",
              "\n",
              "    </div>\n",
              "  </div>\n"
            ],
            "application/vnd.google.colaboratory.intrinsic+json": {
              "type": "dataframe",
              "summary": "{\n  \"name\": \"train_set\",\n  \"rows\": 8,\n  \"fields\": [\n    {\n      \"column\": \"Pclass\",\n      \"properties\": {\n        \"dtype\": \"number\",\n        \"std\": 250.97964098972068,\n        \"min\": 0.8419903064550597,\n        \"max\": 712.0,\n        \"num_unique_values\": 6,\n        \"samples\": [\n          712.0,\n          2.294943820224719,\n          3.0\n        ],\n        \"semantic_type\": \"\",\n        \"description\": \"\"\n      }\n    },\n    {\n      \"column\": \"Sex\",\n      \"properties\": {\n        \"dtype\": \"number\",\n        \"std\": 251.52223463919717,\n        \"min\": 0.0,\n        \"max\": 712.0,\n        \"num_unique_values\": 5,\n        \"samples\": [\n          0.6404494382022472,\n          1.0,\n          0.48020602730863177\n        ],\n        \"semantic_type\": \"\",\n        \"description\": \"\"\n      }\n    },\n    {\n      \"column\": \"Age\",\n      \"properties\": {\n        \"dtype\": \"number\",\n        \"std\": 242.22204553812375,\n        \"min\": 0.67,\n        \"max\": 712.0,\n        \"num_unique_values\": 8,\n        \"samples\": [\n          29.53121323588483,\n          29.69911765,\n          712.0\n        ],\n        \"semantic_type\": \"\",\n        \"description\": \"\"\n      }\n    },\n    {\n      \"column\": \"SibSp\",\n      \"properties\": {\n        \"dtype\": \"number\",\n        \"std\": 251.20981340755552,\n        \"min\": 0.0,\n        \"max\": 712.0,\n        \"num_unique_values\": 6,\n        \"samples\": [\n          712.0,\n          0.5280898876404494,\n          8.0\n        ],\n        \"semantic_type\": \"\",\n        \"description\": \"\"\n      }\n    },\n    {\n      \"column\": \"Parch\",\n      \"properties\": {\n        \"dtype\": \"number\",\n        \"std\": 251.37532713790924,\n        \"min\": 0.0,\n        \"max\": 712.0,\n        \"num_unique_values\": 5,\n        \"samples\": [\n          0.3848314606741573,\n          6.0,\n          0.8030849273444396\n        ],\n        \"semantic_type\": \"\",\n        \"description\": \"\"\n      }\n    },\n    {\n      \"column\": \"Fare\",\n      \"properties\": {\n        \"dtype\": \"number\",\n        \"std\": 278.4973058754244,\n        \"min\": 0.0,\n        \"max\": 712.0,\n        \"num_unique_values\": 8,\n        \"samples\": [\n          32.37942921348315,\n          14.5,\n          712.0\n        ],\n        \"semantic_type\": \"\",\n        \"description\": \"\"\n      }\n    },\n    {\n      \"column\": \"Embarked\",\n      \"properties\": {\n        \"dtype\": \"number\",\n        \"std\": 251.47833296032067,\n        \"min\": 0.0,\n        \"max\": 712.0,\n        \"num_unique_values\": 6,\n        \"samples\": [\n          712.0,\n          0.37219101123595505,\n          3.0\n        ],\n        \"semantic_type\": \"\",\n        \"description\": \"\"\n      }\n    },\n    {\n      \"column\": \"Survived\",\n      \"properties\": {\n        \"dtype\": \"number\",\n        \"std\": 251.58470365610873,\n        \"min\": 0.0,\n        \"max\": 712.0,\n        \"num_unique_values\": 5,\n        \"samples\": [\n          0.3946629213483146,\n          1.0,\n          0.48912177548473196\n        ],\n        \"semantic_type\": \"\",\n        \"description\": \"\"\n      }\n    }\n  ]\n}"
            }
          },
          "metadata": {},
          "execution_count": 7
        }
      ]
    },
    {
      "cell_type": "markdown",
      "source": [
        "<pre>\n",
        "The dataset contains 712 records.\n",
        "All of the features are numeric values, and there are no missing values (count = 712 for all features).\n",
        "We can see that there are 3 passenger classes.\n",
        "There were 64% passengers from sex '1' and 36% from '0'.\n",
        "The average age was 29 and a half, the youngest passenger was 8 months old while the oldest was 80 years old.\n",
        "The average price of a ticket was 32.37, the cheapest was 0 (free) and the most expensive ticket was 512.33.\n",
        "According to the \"describe\" function there were 4 points of embarktion, this is wrong and I need to check this.\n",
        "More then 50% of the passengers embarked in the first location.\n",
        "The survival rate in the training set was 39.46%.\n",
        "</pre>"
      ],
      "metadata": {
        "id": "OK4Jwakij1eV"
      },
      "id": "OK4Jwakij1eV"
    },
    {
      "cell_type": "markdown",
      "source": [
        "Embarked"
      ],
      "metadata": {
        "id": "tpHZ4RXbrLw5"
      },
      "id": "tpHZ4RXbrLw5"
    },
    {
      "cell_type": "code",
      "source": [
        "embark_counts = train_set['Embarked'].value_counts()\n",
        "\n",
        "plt.figure(figsize=(6,4))\n",
        "bars = plt.bar(range(len(embark_counts)), embark_counts.values,\n",
        "               edgecolor='black')\n",
        "\n",
        "plt.xticks(range(len(embark_counts)), embark_counts.index)\n",
        "\n",
        "plt.xlabel('Embarkation Point')\n",
        "plt.ylabel('Number of Passengers')\n",
        "plt.title('Number of Passengers per Embarkation Point')\n",
        "\n",
        "for i, bar in enumerate(bars):\n",
        "    height = bar.get_height()\n",
        "    plt.text(i, height + 1, str(height), ha='center', va='bottom', fontsize=10)\n",
        "\n",
        "plt.show()"
      ],
      "metadata": {
        "colab": {
          "base_uri": "https://localhost:8080/",
          "height": 410
        },
        "id": "Njo-y0jUn-Ap",
        "outputId": "95710d0a-7d1e-4d9d-cdda-b25c9b6568cf"
      },
      "id": "Njo-y0jUn-Ap",
      "execution_count": 8,
      "outputs": [
        {
          "output_type": "display_data",
          "data": {
            "text/plain": [
              "<Figure size 600x400 with 1 Axes>"
            ],
            "image/png": "[encoded data removed]"
          },
          "metadata": {}
        }
      ]
    },
    {
      "cell_type": "markdown",
      "source": [
        "<pre>\n",
        "There were 513 passengers from the first embarkation point.\n",
        "134 from the second\n",
        "64 from the third\n",
        "and 1 from the non existing fourth point\n",
        "this is probably a typing mistake and therefore I assume that '3' is actually '2'.\n",
        "</pre>"
      ],
      "metadata": {
        "id": "mH5Zc5DzvHuk"
      },
      "id": "mH5Zc5DzvHuk"
    },
    {
      "cell_type": "code",
      "source": [
        "sns.scatterplot(data=train_set, x=\"Age\", y=\"Fare\", hue=\"Survived\")\n",
        "plt.yscale(\"log\")\n",
        "plt.title('Ticket Price vs Age with Survival Status')\n",
        "plt.show()"
      ],
      "metadata": {
        "colab": {
          "base_uri": "https://localhost:8080/",
          "height": 472
        },
        "id": "6Iu9sa7GvwKB",
        "outputId": "a370a9cf-ff17-4588-c9ae-4a9486f2bf63"
      },
      "id": "6Iu9sa7GvwKB",
      "execution_count": 9,
      "outputs": [
        {
          "output_type": "display_data",
          "data": {
            "text/plain": [
              "<Figure size 640x480 with 1 Axes>"
            ],
            "image/png": "[encoded data removed]"
          },
          "metadata": {}
        }
      ]
    },
    {
      "cell_type": "markdown",
      "source": [
        "<pre>\n",
        "From the scatter plot we can see that kids had higher chance to survive than adults.\n",
        "Also we can see that there is a correlation between the ticket price to the passenger survival rate,\n",
        "the more expensive the ticket was the higher chance the passenger managed to survive the accident.\n",
        "</pre>"
      ],
      "metadata": {
        "id": "uTBm7rPZxraP"
      },
      "id": "uTBm7rPZxraP"
    },
    {
      "cell_type": "code",
      "source": [
        "pclass_counts = train_set.groupby(['Pclass', 'Survived']).size().unstack(fill_value=0)\n",
        "\n",
        "plt.figure(figsize=(8,5))\n",
        "bar_width = 0.35\n",
        "x = range(len(pclass_counts))\n",
        "\n",
        "bars1 = plt.bar([i - bar_width/2 for i in x], pclass_counts[0],\n",
        "                width=bar_width, label='Not Survived 0', edgecolor='black')\n",
        "bars2 = plt.bar([i + bar_width/2 for i in x], pclass_counts[1],\n",
        "                width=bar_width, label='Survived 1', edgecolor='black')\n",
        "\n",
        "plt.xticks(x, pclass_counts.index)\n",
        "plt.xlabel('Passenger class')\n",
        "plt.ylabel('Number of Passengers')\n",
        "plt.title('Number of Passengers per Pclass (by Survival)')\n",
        "plt.legend()\n",
        "\n",
        "for bars in [bars1, bars2]:\n",
        "    for bar in bars:\n",
        "        height = bar.get_height()\n",
        "        plt.text(bar.get_x() + bar.get_width()/2, height + 1, str(height),\n",
        "                 ha='center', va='bottom', fontsize=9)\n",
        "\n",
        "plt.show()"
      ],
      "metadata": {
        "colab": {
          "base_uri": "https://localhost:8080/",
          "height": 487
        },
        "id": "f5i88FFr7pnj",
        "outputId": "80437a1e-ec7a-4e40-dfe6-a0998a6085a6"
      },
      "id": "f5i88FFr7pnj",
      "execution_count": 10,
      "outputs": [
        {
          "output_type": "display_data",
          "data": {
            "text/plain": [
              "<Figure size 800x500 with 1 Axes>"
            ],
            "image/png": "[encoded data removed]"
          },
          "metadata": {}
        }
      ]
    },
    {
      "cell_type": "markdown",
      "source": [
        "<pre>\n",
        "This bar plot shows the correlation between the passenger class to the survival rate.\n",
        "From this graph we can see that the passengers had a higher chance to survive the lower their class number was.\n",
        "Obviously first class is considered best.\n",
        "</pre>"
      ],
      "metadata": {
        "id": "9EiBglAP9P9l"
      },
      "id": "9EiBglAP9P9l"
    },
    {
      "cell_type": "code",
      "source": [
        "sex_counts = train_set.groupby(['Sex', 'Survived']).size().unstack(fill_value=0)\n",
        "\n",
        "plt.figure(figsize=(8,5))\n",
        "bar_width = 0.35\n",
        "x = range(len(sex_counts))\n",
        "\n",
        "bars1 = plt.bar([i - bar_width/2 for i in x], sex_counts[0],\n",
        "                width=bar_width, label='Not Survived 0', edgecolor='black')\n",
        "bars2 = plt.bar([i + bar_width/2 for i in x], sex_counts[1],\n",
        "                width=bar_width, label='Survived 1', edgecolor='black')\n",
        "\n",
        "plt.xticks(x, sex_counts.index)\n",
        "plt.xlabel('Passenger sex')\n",
        "plt.ylabel('Number of Passengers')\n",
        "plt.title('Number of Passengers per Sex (by Survival)')\n",
        "plt.legend()\n",
        "\n",
        "for bars in [bars1, bars2]:\n",
        "    for bar in bars:\n",
        "        height = bar.get_height()\n",
        "        plt.text(bar.get_x() + bar.get_width()/2, height + 1, str(height),\n",
        "                 ha='center', va='bottom', fontsize=9)\n",
        "\n",
        "plt.show()"
      ],
      "metadata": {
        "colab": {
          "base_uri": "https://localhost:8080/",
          "height": 487
        },
        "id": "so4BruL19x4U",
        "outputId": "7ca540a3-cfea-4501-954f-e739d08eb59f"
      },
      "id": "so4BruL19x4U",
      "execution_count": 11,
      "outputs": [
        {
          "output_type": "display_data",
          "data": {
            "text/plain": [
              "<Figure size 800x500 with 1 Axes>"
            ],
            "image/png": "[encoded data removed]"
          },
          "metadata": {}
        }
      ]
    },
    {
      "cell_type": "markdown",
      "source": [
        "<pre>\n",
        "This graph shows the connection between the passenger sex to their chance of survival.\n",
        "We can see from this graph that passenger\n",
        "with the value '0' had a significant higher chance to survive\n",
        "while passenger with the value '1' had a lower rate of survival.\n",
        "This suggests that the value '0' is female, and value '1' is male.\n",
        "\n",
        "</pre>"
      ],
      "metadata": {
        "id": "7pZUaUsL-4Je"
      },
      "id": "7pZUaUsL-4Je"
    },
    {
      "cell_type": "code",
      "source": [
        "correlation = train_set.corr()\n",
        "sns.heatmap(correlation, annot=True, cbar=True)"
      ],
      "metadata": {
        "colab": {
          "base_uri": "https://localhost:8080/",
          "height": 509
        },
        "id": "vb6aZNOgBwV7",
        "outputId": "e520c1b7-7f50-45b7-fbc1-c11916579be8"
      },
      "id": "vb6aZNOgBwV7",
      "execution_count": 12,
      "outputs": [
        {
          "output_type": "execute_result",
          "data": {
            "text/plain": [
              "<Axes: >"
            ]
          },
          "metadata": {},
          "execution_count": 12
        },
        {
          "output_type": "display_data",
          "data": {
            "text/plain": [
              "<Figure size 640x480 with 2 Axes>"
            ],
            "image/png": "[encoded data removed]"
          },
          "metadata": {}
        }
      ]
    },
    {
      "cell_type": "markdown",
      "source": [
        "<pre>\n",
        "Most of the features don't have high (positive or negative) correlation.\n",
        "Fare has negative correlation with Pclass, higher ticket price to lower passenger class number\n",
        "Sex has negative correlation with Survived, women survived more.\n",
        "</pre>"
      ],
      "metadata": {
        "id": "c1oCzb-mCY19"
      },
      "id": "c1oCzb-mCY19"
    },
    {
      "cell_type": "markdown",
      "source": [
        "Fixing Embark 4th point"
      ],
      "metadata": {
        "id": "dcL694lY-0kP"
      },
      "id": "dcL694lY-0kP"
    },
    {
      "cell_type": "markdown",
      "source": [
        "<pre>\n",
        "Fixed 4th Embark point, titanic had only 3 embark point before the accident,\n",
        "only one passenger had the value 3 which makes me believe this is a typo and they meant to put 2.\n",
        "</pre>"
      ],
      "metadata": {
        "id": "WirZ7gC7Tuf9"
      },
      "id": "WirZ7gC7Tuf9"
    },
    {
      "cell_type": "code",
      "source": [
        "train_set.loc[train_set['Embarked'] >= 3, 'Embarked'] = 2\n",
        "test_set.loc[test_set['Embarked'] >= 3, 'Embarked'] = 2"
      ],
      "metadata": {
        "id": "A3Ho_ons-wjZ"
      },
      "id": "A3Ho_ons-wjZ",
      "execution_count": 13,
      "outputs": []
    },
    {
      "cell_type": "code",
      "source": [
        "train_set['Embarked'].unique()"
      ],
      "metadata": {
        "colab": {
          "base_uri": "https://localhost:8080/"
        },
        "id": "63cX-lVC_tfc",
        "outputId": "2d8702d2-537b-4c81-fc3c-5d7b33b7ceeb"
      },
      "id": "63cX-lVC_tfc",
      "execution_count": 14,
      "outputs": [
        {
          "output_type": "execute_result",
          "data": {
            "text/plain": [
              "array([1, 0, 2])"
            ]
          },
          "metadata": {},
          "execution_count": 14
        }
      ]
    },
    {
      "cell_type": "code",
      "source": [
        "test_set['Embarked'].unique()"
      ],
      "metadata": {
        "colab": {
          "base_uri": "https://localhost:8080/"
        },
        "id": "DhmxTneh_x43",
        "outputId": "701fa08c-e150-4211-8167-60a5f104c82b"
      },
      "id": "DhmxTneh_x43",
      "execution_count": 15,
      "outputs": [
        {
          "output_type": "execute_result",
          "data": {
            "text/plain": [
              "array([0, 2, 1])"
            ]
          },
          "metadata": {},
          "execution_count": 15
        }
      ]
    },
    {
      "cell_type": "code",
      "source": [],
      "metadata": {
        "id": "skbNu82HAdSC"
      },
      "id": "skbNu82HAdSC",
      "execution_count": 15,
      "outputs": []
    },
    {
      "cell_type": "markdown",
      "id": "fb36672a",
      "metadata": {
        "id": "fb36672a"
      },
      "source": [
        "## Part 3 - Experiments\n",
        "You could add as many code cells as needed"
      ]
    },
    {
      "cell_type": "markdown",
      "source": [
        "Seperating to X and y"
      ],
      "metadata": {
        "id": "GsA_KNcZGsMM"
      },
      "id": "GsA_KNcZGsMM"
    },
    {
      "cell_type": "code",
      "execution_count": 16,
      "id": "b7098585",
      "metadata": {
        "id": "b7098585"
      },
      "outputs": [],
      "source": [
        "X_train = train_set.drop(\"Survived\", axis=1, inplace=False)\n",
        "y_train = train_set['Survived']"
      ]
    },
    {
      "cell_type": "code",
      "source": [
        "X_test = test_set.drop(\"Survived\", axis=1, inplace=False)\n",
        "y_test = test_set['Survived']"
      ],
      "metadata": {
        "id": "oYOb_DZeGrr4"
      },
      "id": "oYOb_DZeGrr4",
      "execution_count": 17,
      "outputs": []
    },
    {
      "cell_type": "markdown",
      "source": [
        "Baseline Model KNN:"
      ],
      "metadata": {
        "id": "Bd9Qd2xWK5Ak"
      },
      "id": "Bd9Qd2xWK5Ak"
    },
    {
      "cell_type": "markdown",
      "source": [
        "At first I'll try using KNN without any scalling"
      ],
      "metadata": {
        "id": "gjGFp-KmLaWD"
      },
      "id": "gjGFp-KmLaWD"
    },
    {
      "cell_type": "code",
      "source": [
        "knn = KNeighborsClassifier()\n",
        "param_grid = {\n",
        "    'n_neighbors': [3, 5, 7],\n",
        "    'weights': ['uniform', 'distance'],\n",
        "    'metric': [\"euclidean\", \"manhattan\"],\n",
        "}\n",
        "\n",
        "grid = GridSearchCV(knn, param_grid, cv=5, n_jobs=-1,\n",
        "                    scoring = make_scorer(f1_score, average=\"binary\"))\n",
        "\n",
        "grid.fit(X_train, y_train)\n",
        "\n",
        "print(\"Best Parameters:\", grid.best_params_)\n",
        "print(\"Best CV Score:\", grid.best_score_)"
      ],
      "metadata": {
        "colab": {
          "base_uri": "https://localhost:8080/"
        },
        "id": "ZiUTUz9xK27R",
        "outputId": "605fe365-4df3-472c-e829-ab8adc636f8c"
      },
      "id": "ZiUTUz9xK27R",
      "execution_count": 18,
      "outputs": [
        {
          "output_type": "stream",
          "name": "stdout",
          "text": [
            "Best Parameters: {'metric': 'manhattan', 'n_neighbors': 7, 'weights': 'uniform'}\n",
            "Best CV Score: 0.6467295114024085\n"
          ]
        }
      ]
    },
    {
      "cell_type": "markdown",
      "source": [
        "Showing results of all premutations"
      ],
      "metadata": {
        "id": "Yjtpfg78PAl1"
      },
      "id": "Yjtpfg78PAl1"
    },
    {
      "cell_type": "code",
      "source": [
        "df = pd.DataFrame(grid.cv_results_)\n",
        "print(df)"
      ],
      "metadata": {
        "colab": {
          "base_uri": "https://localhost:8080/"
        },
        "id": "NsDkoZ7iPELQ",
        "outputId": "048d6aa7-2e47-445e-efb8-00153a86d312"
      },
      "id": "NsDkoZ7iPELQ",
      "execution_count": 19,
      "outputs": [
        {
          "output_type": "stream",
          "name": "stdout",
          "text": [
            "    mean_fit_time  std_fit_time  mean_score_time  std_score_time param_metric  \\\n",
            "0        0.005487      0.001143         0.009649        0.000716    euclidean   \n",
            "1        0.004339      0.000101         0.007850        0.000482    euclidean   \n",
            "2        0.004530      0.000122         0.010008        0.000935    euclidean   \n",
            "3        0.005108      0.000724         0.008155        0.000262    euclidean   \n",
            "4        0.008417      0.004057         0.015040        0.007941    euclidean   \n",
            "5        0.004378      0.000092         0.008184        0.000214    euclidean   \n",
            "6        0.004318      0.000076         0.009084        0.000063    manhattan   \n",
            "7        0.004374      0.000118         0.007995        0.000202    manhattan   \n",
            "8        0.004230      0.000040         0.009144        0.000148    manhattan   \n",
            "9        0.005078      0.001440         0.008088        0.000255    manhattan   \n",
            "10       0.004432      0.000148         0.009137        0.000077    manhattan   \n",
            "11       0.004378      0.000137         0.008191        0.000134    manhattan   \n",
            "\n",
            "    param_n_neighbors param_weights  \\\n",
            "0                   3       uniform   \n",
            "1                   3      distance   \n",
            "2                   5       uniform   \n",
            "3                   5      distance   \n",
            "4                   7       uniform   \n",
            "5                   7      distance   \n",
            "6                   3       uniform   \n",
            "7                   3      distance   \n",
            "8                   5       uniform   \n",
            "9                   5      distance   \n",
            "10                  7       uniform   \n",
            "11                  7      distance   \n",
            "\n",
            "                                               params  split0_test_score  \\\n",
            "0   {'metric': 'euclidean', 'n_neighbors': 3, 'wei...           0.563107   \n",
            "1   {'metric': 'euclidean', 'n_neighbors': 3, 'wei...           0.571429   \n",
            "2   {'metric': 'euclidean', 'n_neighbors': 5, 'wei...           0.532110   \n",
            "3   {'metric': 'euclidean', 'n_neighbors': 5, 'wei...           0.576577   \n",
            "4   {'metric': 'euclidean', 'n_neighbors': 7, 'wei...           0.542056   \n",
            "5   {'metric': 'euclidean', 'n_neighbors': 7, 'wei...           0.568807   \n",
            "6   {'metric': 'manhattan', 'n_neighbors': 3, 'wei...           0.609524   \n",
            "7   {'metric': 'manhattan', 'n_neighbors': 3, 'wei...           0.609524   \n",
            "8   {'metric': 'manhattan', 'n_neighbors': 5, 'wei...           0.537037   \n",
            "9   {'metric': 'manhattan', 'n_neighbors': 5, 'wei...           0.592593   \n",
            "10  {'metric': 'manhattan', 'n_neighbors': 7, 'wei...           0.555556   \n",
            "11  {'metric': 'manhattan', 'n_neighbors': 7, 'wei...           0.623853   \n",
            "\n",
            "    split1_test_score  split2_test_score  split3_test_score  \\\n",
            "0            0.635514           0.566372           0.509804   \n",
            "1            0.666667           0.553571           0.528302   \n",
            "2            0.603774           0.571429           0.514286   \n",
            "3            0.678899           0.537037           0.519231   \n",
            "4            0.615385           0.612613           0.574257   \n",
            "5            0.666667           0.587156           0.529412   \n",
            "6            0.622642           0.603448           0.588235   \n",
            "7            0.660377           0.589286           0.605505   \n",
            "8            0.592593           0.660714           0.615385   \n",
            "9            0.666667           0.648649           0.629630   \n",
            "10           0.672897           0.690909           0.666667   \n",
            "11           0.696429           0.636364           0.635514   \n",
            "\n",
            "    split4_test_score  mean_test_score  std_test_score  rank_test_score  \n",
            "0            0.633663         0.581692        0.047636                9  \n",
            "1            0.580000         0.579994        0.046810               11  \n",
            "2            0.598131         0.563946        0.035470               12  \n",
            "3            0.592593         0.580867        0.055653               10  \n",
            "4            0.594059         0.587674        0.027172                7  \n",
            "5            0.576923         0.585793        0.044919                8  \n",
            "6            0.699029         0.624576        0.038835                4  \n",
            "7            0.627451         0.618428        0.024235                5  \n",
            "8            0.615385         0.604223        0.040223                6  \n",
            "9            0.622642         0.632036        0.025000                3  \n",
            "10           0.647619         0.646730        0.047639                1  \n",
            "11           0.629630         0.644358        0.026423                2  \n"
          ]
        }
      ]
    },
    {
      "cell_type": "markdown",
      "source": [
        "Scalling with StandardScaler\n"
      ],
      "metadata": {
        "id": "2ycGeWzCNfK0"
      },
      "id": "2ycGeWzCNfK0"
    },
    {
      "cell_type": "code",
      "source": [
        "scaler = StandardScaler()"
      ],
      "metadata": {
        "id": "RGY3XIr8K238"
      },
      "id": "RGY3XIr8K238",
      "execution_count": 20,
      "outputs": []
    },
    {
      "cell_type": "code",
      "source": [
        "X_train_scaler = X_train.copy(deep=False)\n",
        "X_test_scaler = X_test.copy(deep=False)"
      ],
      "metadata": {
        "id": "fVQu_usmOJas"
      },
      "id": "fVQu_usmOJas",
      "execution_count": 21,
      "outputs": []
    },
    {
      "cell_type": "code",
      "source": [
        "X_train_scaler = scaler.fit_transform(X_train_scaler)"
      ],
      "metadata": {
        "id": "pc3wVnWtOcZs"
      },
      "id": "pc3wVnWtOcZs",
      "execution_count": 22,
      "outputs": []
    },
    {
      "cell_type": "code",
      "source": [
        "X_test_scaler = scaler.transform(X_test_scaler)"
      ],
      "metadata": {
        "id": "g7-ERLCrOmPp"
      },
      "id": "g7-ERLCrOmPp",
      "execution_count": 23,
      "outputs": []
    },
    {
      "cell_type": "markdown",
      "source": [
        "Experimenting KNN with StandardScaler"
      ],
      "metadata": {
        "id": "9Gzc9I5XPZdI"
      },
      "id": "9Gzc9I5XPZdI"
    },
    {
      "cell_type": "code",
      "source": [
        "knn = KNeighborsClassifier()\n",
        "param_grid = {\n",
        "    'n_neighbors': [3, 5, 7],\n",
        "    'weights': ['uniform', 'distance'],\n",
        "    'metric': [\"euclidean\", \"manhattan\"],\n",
        "}\n",
        "\n",
        "grid = GridSearchCV(knn, param_grid, cv=5, n_jobs=-1,\n",
        "                    scoring = make_scorer(f1_score, average=\"binary\"))\n",
        "\n",
        "grid.fit(X_train_scaler, y_train)\n",
        "\n",
        "print(\"Best Parameters:\", grid.best_params_)\n",
        "print(\"Best CV Score:\", grid.best_score_)"
      ],
      "metadata": {
        "colab": {
          "base_uri": "https://localhost:8080/"
        },
        "id": "KY52uc9lPeRH",
        "outputId": "6e8cf7ed-a4fe-4c57-c3a5-33b41fd0a701"
      },
      "id": "KY52uc9lPeRH",
      "execution_count": 24,
      "outputs": [
        {
          "output_type": "stream",
          "name": "stdout",
          "text": [
            "Best Parameters: {'metric': 'euclidean', 'n_neighbors': 3, 'weights': 'uniform'}\n",
            "Best CV Score: 0.7405730488920731\n"
          ]
        }
      ]
    },
    {
      "cell_type": "code",
      "source": [
        "df = pd.DataFrame(grid.cv_results_)\n",
        "print(df)"
      ],
      "metadata": {
        "colab": {
          "base_uri": "https://localhost:8080/"
        },
        "id": "56urgyqMRfav",
        "outputId": "03051768-e817-487b-a979-765044992335"
      },
      "id": "56urgyqMRfav",
      "execution_count": 25,
      "outputs": [
        {
          "output_type": "stream",
          "name": "stdout",
          "text": [
            "    mean_fit_time  std_fit_time  mean_score_time  std_score_time param_metric  \\\n",
            "0        0.002744      0.000071         0.008823        0.000542    euclidean   \n",
            "1        0.002635      0.000056         0.007057        0.000131    euclidean   \n",
            "2        0.002587      0.000061         0.008391        0.000149    euclidean   \n",
            "3        0.002514      0.000059         0.007330        0.000110    euclidean   \n",
            "4        0.002683      0.000099         0.008578        0.000147    euclidean   \n",
            "5        0.003801      0.001720         0.008705        0.000702    euclidean   \n",
            "6        0.002668      0.000052         0.009069        0.001248    manhattan   \n",
            "7        0.002819      0.000193         0.007813        0.000500    manhattan   \n",
            "8        0.002606      0.000035         0.008618        0.000157    manhattan   \n",
            "9        0.002470      0.000064         0.007482        0.000148    manhattan   \n",
            "10       0.002630      0.000084         0.009072        0.000160    manhattan   \n",
            "11       0.002463      0.000136         0.007405        0.001270    manhattan   \n",
            "\n",
            "    param_n_neighbors param_weights  \\\n",
            "0                   3       uniform   \n",
            "1                   3      distance   \n",
            "2                   5       uniform   \n",
            "3                   5      distance   \n",
            "4                   7       uniform   \n",
            "5                   7      distance   \n",
            "6                   3       uniform   \n",
            "7                   3      distance   \n",
            "8                   5       uniform   \n",
            "9                   5      distance   \n",
            "10                  7       uniform   \n",
            "11                  7      distance   \n",
            "\n",
            "                                               params  split0_test_score  \\\n",
            "0   {'metric': 'euclidean', 'n_neighbors': 3, 'wei...           0.697248   \n",
            "1   {'metric': 'euclidean', 'n_neighbors': 3, 'wei...           0.673077   \n",
            "2   {'metric': 'euclidean', 'n_neighbors': 5, 'wei...           0.660550   \n",
            "3   {'metric': 'euclidean', 'n_neighbors': 5, 'wei...           0.647619   \n",
            "4   {'metric': 'euclidean', 'n_neighbors': 7, 'wei...           0.679245   \n",
            "5   {'metric': 'euclidean', 'n_neighbors': 7, 'wei...           0.660194   \n",
            "6   {'metric': 'manhattan', 'n_neighbors': 3, 'wei...           0.691589   \n",
            "7   {'metric': 'manhattan', 'n_neighbors': 3, 'wei...           0.673077   \n",
            "8   {'metric': 'manhattan', 'n_neighbors': 5, 'wei...           0.654206   \n",
            "9   {'metric': 'manhattan', 'n_neighbors': 5, 'wei...           0.666667   \n",
            "10  {'metric': 'manhattan', 'n_neighbors': 7, 'wei...           0.673077   \n",
            "11  {'metric': 'manhattan', 'n_neighbors': 7, 'wei...           0.660194   \n",
            "\n",
            "    split1_test_score  split2_test_score  split3_test_score  \\\n",
            "0            0.743363           0.717949           0.759259   \n",
            "1            0.756757           0.706897           0.763636   \n",
            "2            0.730435           0.695652           0.761905   \n",
            "3            0.750000           0.701754           0.740741   \n",
            "4            0.750000           0.713043           0.761905   \n",
            "5            0.745455           0.724138           0.754717   \n",
            "6            0.732143           0.722689           0.754717   \n",
            "7            0.732143           0.700855           0.740741   \n",
            "8            0.754386           0.700855           0.769231   \n",
            "9            0.761062           0.724138           0.735849   \n",
            "10           0.756757           0.719298           0.769231   \n",
            "11           0.727273           0.724138           0.754717   \n",
            "\n",
            "    split4_test_score  mean_test_score  std_test_score  rank_test_score  \n",
            "0            0.785047         0.740573        0.030737                1  \n",
            "1            0.735849         0.727243        0.033519                5  \n",
            "2            0.737864         0.717281        0.035424               10  \n",
            "3            0.735849         0.715193        0.037517               11  \n",
            "4            0.737864         0.728412        0.029430                4  \n",
            "5            0.735849         0.724071        0.033512                8  \n",
            "6            0.750000         0.730228        0.022557                3  \n",
            "7            0.715596         0.712482        0.024011               12  \n",
            "8            0.750000         0.725735        0.042514                6  \n",
            "9            0.735849         0.724713        0.031429                7  \n",
            "10           0.740000         0.731673        0.033751                2  \n",
            "11           0.735849         0.720434        0.031945                9  \n"
          ]
        }
      ]
    },
    {
      "cell_type": "markdown",
      "source": [
        "Preparing PCA data"
      ],
      "metadata": {
        "id": "QO1VKDVWGKck"
      },
      "id": "QO1VKDVWGKck"
    },
    {
      "cell_type": "code",
      "source": [
        "pca = PCA(n_components=5)"
      ],
      "metadata": {
        "id": "1tU6KzmxGJsk"
      },
      "id": "1tU6KzmxGJsk",
      "execution_count": 26,
      "outputs": []
    },
    {
      "cell_type": "code",
      "execution_count": 27,
      "id": "097afb02",
      "metadata": {
        "id": "097afb02"
      },
      "outputs": [],
      "source": [
        "X_train_PCA = X_train.copy(deep=False)\n",
        "X_test_PCA = X_test.copy(deep=False)"
      ]
    },
    {
      "cell_type": "code",
      "execution_count": 28,
      "id": "1fa9ec73",
      "metadata": {
        "id": "1fa9ec73"
      },
      "outputs": [],
      "source": [
        "X_train_PCA = pca.fit_transform(X_train_PCA)"
      ]
    },
    {
      "cell_type": "code",
      "execution_count": 29,
      "id": "937b653d",
      "metadata": {
        "id": "937b653d"
      },
      "outputs": [],
      "source": [
        "X_test_PCA = pca.transform(X_test_PCA)"
      ]
    },
    {
      "cell_type": "markdown",
      "source": [
        "Random Forest:"
      ],
      "metadata": {
        "id": "uvEHxis9Lulr"
      },
      "id": "uvEHxis9Lulr"
    },
    {
      "cell_type": "markdown",
      "source": [
        "Experimenting with Random Forest without PCA"
      ],
      "metadata": {
        "id": "X8Mf9i1LHXLH"
      },
      "id": "X8Mf9i1LHXLH"
    },
    {
      "cell_type": "code",
      "source": [
        "#Put all the combination of the result in df and show the results"
      ],
      "metadata": {
        "id": "71gruzxmTVvc"
      },
      "id": "71gruzxmTVvc",
      "execution_count": 30,
      "outputs": []
    },
    {
      "cell_type": "code",
      "execution_count": 31,
      "id": "678dbf8c-ff53-4b82-80aa-c47c700daab9",
      "metadata": {
        "id": "678dbf8c-ff53-4b82-80aa-c47c700daab9",
        "colab": {
          "base_uri": "https://localhost:8080/"
        },
        "outputId": "89c25ebb-d476-49ce-93a3-7b4d40289646"
      },
      "outputs": [
        {
          "output_type": "stream",
          "name": "stdout",
          "text": [
            "Best Parameters: {'class_weight': 'balanced', 'max_depth': 4, 'min_samples_leaf': 3, 'min_samples_split': 2, 'n_estimators': 35}\n",
            "Best CV Score: 0.7595577925608923\n"
          ]
        }
      ],
      "source": [
        "rf = RandomForestClassifier(random_state=42)\n",
        "\n",
        "param_grid = {\n",
        "    'n_estimators': [10, 25, 35],\n",
        "    'max_depth': [3, 4],\n",
        "    'min_samples_split': [2, 3],\n",
        "    'min_samples_leaf': [1, 2, 3],\n",
        "    'class_weight': [None, 'balanced'],\n",
        "}\n",
        "\n",
        "grid = GridSearchCV(rf, param_grid, cv=5, n_jobs=-1,\n",
        "                    scoring = make_scorer(f1_score, average=\"binary\"))\n",
        "\n",
        "grid.fit(X_train, y_train)\n",
        "\n",
        "print(\"Best Parameters:\", grid.best_params_)\n",
        "print(\"Best CV Score:\", grid.best_score_)"
      ]
    },
    {
      "cell_type": "markdown",
      "source": [
        "##### Showing the results of all the permutation"
      ],
      "metadata": {
        "id": "qKcaPPrWVjNv"
      },
      "id": "qKcaPPrWVjNv"
    },
    {
      "cell_type": "code",
      "source": [
        "df = pd.DataFrame(grid.cv_results_)\n",
        "print(df)"
      ],
      "metadata": {
        "colab": {
          "base_uri": "https://localhost:8080/"
        },
        "id": "ki0h12XbVoT-",
        "outputId": "97dbb54b-7c51-4769-8252-abfccef7046b"
      },
      "id": "ki0h12XbVoT-",
      "execution_count": 32,
      "outputs": [
        {
          "output_type": "stream",
          "name": "stdout",
          "text": [
            "    mean_fit_time  std_fit_time  mean_score_time  std_score_time  \\\n",
            "0        0.036480      0.000998         0.008789        0.000717   \n",
            "1        0.086825      0.016557         0.011270        0.001289   \n",
            "2        0.106112      0.007671         0.011626        0.000253   \n",
            "3        0.039758      0.011243         0.010831        0.004576   \n",
            "4        0.132602      0.033004         0.017861        0.004559   \n",
            "..            ...           ...              ...             ...   \n",
            "67       0.156423      0.007963         0.016753        0.004297   \n",
            "68       0.181684      0.025247         0.018032        0.006161   \n",
            "69       0.067463      0.005708         0.015145        0.001208   \n",
            "70       0.130992      0.022020         0.015034        0.004709   \n",
            "71       0.167187      0.026830         0.014687        0.005578   \n",
            "\n",
            "   param_class_weight  param_max_depth  param_min_samples_leaf  \\\n",
            "0                None                3                       1   \n",
            "1                None                3                       1   \n",
            "2                None                3                       1   \n",
            "3                None                3                       1   \n",
            "4                None                3                       1   \n",
            "..                ...              ...                     ...   \n",
            "67           balanced                4                       3   \n",
            "68           balanced                4                       3   \n",
            "69           balanced                4                       3   \n",
            "70           balanced                4                       3   \n",
            "71           balanced                4                       3   \n",
            "\n",
            "    param_min_samples_split  param_n_estimators  \\\n",
            "0                         2                  10   \n",
            "1                         2                  25   \n",
            "2                         2                  35   \n",
            "3                         3                  10   \n",
            "4                         3                  25   \n",
            "..                      ...                 ...   \n",
            "67                        2                  25   \n",
            "68                        2                  35   \n",
            "69                        3                  10   \n",
            "70                        3                  25   \n",
            "71                        3                  35   \n",
            "\n",
            "                                               params  split0_test_score  \\\n",
            "0   {'class_weight': None, 'max_depth': 3, 'min_sa...           0.710280   \n",
            "1   {'class_weight': None, 'max_depth': 3, 'min_sa...           0.698113   \n",
            "2   {'class_weight': None, 'max_depth': 3, 'min_sa...           0.666667   \n",
            "3   {'class_weight': None, 'max_depth': 3, 'min_sa...           0.710280   \n",
            "4   {'class_weight': None, 'max_depth': 3, 'min_sa...           0.698113   \n",
            "..                                                ...                ...   \n",
            "67  {'class_weight': 'balanced', 'max_depth': 4, '...           0.695652   \n",
            "68  {'class_weight': 'balanced', 'max_depth': 4, '...           0.741379   \n",
            "69  {'class_weight': 'balanced', 'max_depth': 4, '...           0.713043   \n",
            "70  {'class_weight': 'balanced', 'max_depth': 4, '...           0.695652   \n",
            "71  {'class_weight': 'balanced', 'max_depth': 4, '...           0.741379   \n",
            "\n",
            "    split1_test_score  split2_test_score  split3_test_score  \\\n",
            "0            0.792453           0.700855           0.792079   \n",
            "1            0.769231           0.701754           0.780000   \n",
            "2            0.742268           0.713043           0.783505   \n",
            "3            0.792453           0.700855           0.792079   \n",
            "4            0.769231           0.701754           0.780000   \n",
            "..                ...                ...                ...   \n",
            "67           0.789474           0.716667           0.796296   \n",
            "68           0.807018           0.715447           0.800000   \n",
            "69           0.807339           0.677966           0.800000   \n",
            "70           0.789474           0.716667           0.796296   \n",
            "71           0.807018           0.715447           0.800000   \n",
            "\n",
            "    split4_test_score  mean_test_score  std_test_score  rank_test_score  \n",
            "0            0.711538         0.741441        0.041663               23  \n",
            "1            0.720000         0.733820        0.034295               46  \n",
            "2            0.701031         0.721303        0.039428               71  \n",
            "3            0.711538         0.741441        0.041663               23  \n",
            "4            0.720000         0.733820        0.034295               46  \n",
            "..                ...              ...             ...              ...  \n",
            "67           0.740741         0.747766        0.039565               11  \n",
            "68           0.733945         0.759558        0.036933                1  \n",
            "69           0.710280         0.741726        0.052111               21  \n",
            "70           0.740741         0.747766        0.039565               11  \n",
            "71           0.733945         0.759558        0.036933                1  \n",
            "\n",
            "[72 rows x 18 columns]\n"
          ]
        }
      ]
    },
    {
      "cell_type": "markdown",
      "source": [
        "Experimenting with Random Forest and PCA"
      ],
      "metadata": {
        "id": "4XU0ffUUP1bo"
      },
      "id": "4XU0ffUUP1bo"
    },
    {
      "cell_type": "code",
      "execution_count": 33,
      "id": "cd1151d0-0b4b-441d-965a-77cca0dd894f",
      "metadata": {
        "id": "cd1151d0-0b4b-441d-965a-77cca0dd894f",
        "colab": {
          "base_uri": "https://localhost:8080/"
        },
        "outputId": "ec55da40-284b-4fbd-a66f-cce6efa9803a"
      },
      "outputs": [
        {
          "output_type": "stream",
          "name": "stdout",
          "text": [
            "Best Parameters: {'class_weight': 'balanced', 'max_depth': 4, 'min_samples_leaf': 3, 'min_samples_split': 2, 'n_estimators': 25}\n",
            "Best CV Score: 0.6674368421980954\n"
          ]
        }
      ],
      "source": [
        "rf = RandomForestClassifier(random_state=42)\n",
        "\n",
        "param_grid = {\n",
        "    'n_estimators': [10, 25, 35],\n",
        "    'max_depth': [3, 4],\n",
        "    'min_samples_split': [2, 3],\n",
        "    'min_samples_leaf': [1, 2, 3],\n",
        "    'class_weight': [None, 'balanced'],\n",
        "}\n",
        "\n",
        "grid = GridSearchCV(rf, param_grid, cv=5, n_jobs=-1,\n",
        "                    scoring = make_scorer(f1_score, average=\"binary\"))\n",
        "\n",
        "grid.fit(X_train_PCA, y_train)\n",
        "\n",
        "print(\"Best Parameters:\", grid.best_params_)\n",
        "print(\"Best CV Score:\", grid.best_score_)"
      ]
    },
    {
      "cell_type": "markdown",
      "source": [
        "PCA did worse than regular X_train, therefore I will not use it."
      ],
      "metadata": {
        "id": "3NQ6OqIlQx_I"
      },
      "id": "3NQ6OqIlQx_I"
    },
    {
      "cell_type": "markdown",
      "id": "67d97f11",
      "metadata": {
        "id": "67d97f11"
      },
      "source": [
        "## Part 4 - Training\n",
        "Use the best combination of feature engineering, model (algorithm and hyperparameters) from the experiment part (part 3)"
      ]
    },
    {
      "cell_type": "code",
      "execution_count": 34,
      "id": "93713ead",
      "metadata": {
        "id": "93713ead"
      },
      "outputs": [],
      "source": [
        "final_model = RandomForestClassifier(n_estimators=35, min_samples_split=2, min_samples_leaf=2,\n",
        "                                     max_depth=4, class_weight='balanced')\n",
        "clf = final_model.fit(X_train, y_train)"
      ]
    },
    {
      "cell_type": "markdown",
      "id": "259ab902",
      "metadata": {
        "id": "259ab902"
      },
      "source": [
        "## Part 5 - Apply on test and show model performance estimation"
      ]
    },
    {
      "cell_type": "code",
      "execution_count": 35,
      "id": "d9971aa5",
      "metadata": {
        "id": "d9971aa5",
        "colab": {
          "base_uri": "https://localhost:8080/"
        },
        "outputId": "a119bf4c-5486-49ae-9210-6792f420fae0"
      },
      "outputs": [
        {
          "output_type": "stream",
          "name": "stdout",
          "text": [
            "The F1 score: 0.7741935483870968\n"
          ]
        }
      ],
      "source": [
        "y_predict = clf.predict(X_test)\n",
        "score = f1_score(y_test, y_predict)\n",
        "print(f\"The F1 score: {score}\")"
      ]
    },
    {
      "cell_type": "code",
      "source": [
        "df_preds = pd.DataFrame({\n",
        "    \"y_test\": y_test,\n",
        "    \"y_pred\": y_predict\n",
        "})\n",
        "\n",
        "print(df_preds.head())"
      ],
      "metadata": {
        "colab": {
          "base_uri": "https://localhost:8080/"
        },
        "id": "aPiPtMB4TKwv",
        "outputId": "19ea2fb0-ffbc-47e6-e6c6-56ae079652e5"
      },
      "id": "aPiPtMB4TKwv",
      "execution_count": 36,
      "outputs": [
        {
          "output_type": "stream",
          "name": "stdout",
          "text": [
            "   y_test  y_pred\n",
            "0       0       0\n",
            "1       0       0\n",
            "2       0       0\n",
            "3       0       1\n",
            "4       1       0\n"
          ]
        }
      ]
    },
    {
      "cell_type": "code",
      "execution_count": 37,
      "id": "00d8aa96",
      "metadata": {
        "id": "00d8aa96",
        "colab": {
          "base_uri": "https://localhost:8080/",
          "height": 472
        },
        "outputId": "6127f1f6-7925-430d-b158-f960b8fd6810"
      },
      "outputs": [
        {
          "output_type": "display_data",
          "data": {
            "text/plain": [
              "<Figure size 640x480 with 2 Axes>"
            ],
            "image/png": "[encoded data removed]"
          },
          "metadata": {}
        }
      ],
      "source": [
        "cm = confusion_matrix(y_test, y_predict)\n",
        "\n",
        "disp = ConfusionMatrixDisplay(confusion_matrix=cm)\n",
        "disp.plot(cmap=plt.cm.Blues)\n",
        "plt.title(\"Confusion Matrix\")\n",
        "plt.show()"
      ]
    },
    {
      "cell_type": "code",
      "source": [],
      "metadata": {
        "id": "qBSaWr9iSgP7"
      },
      "id": "qBSaWr9iSgP7",
      "execution_count": 37,
      "outputs": []
    }
  ],
  "metadata": {
    "kernelspec": {
      "display_name": "Python 3 (ipykernel)",
      "language": "python",
      "name": "python3"
    },
    "language_info": {
      "codemirror_mode": {
        "name": "ipython",
        "version": 3
      },
      "file_extension": ".py",
      "mimetype": "text/x-python",
      "name": "python",
      "nbconvert_exporter": "python",
      "pygments_lexer": "ipython3",
      "version": "3.11.9"
    },
    "colab": {
      "provenance": []
    }
  },
  "nbformat": 4,
  "nbformat_minor": 5
}